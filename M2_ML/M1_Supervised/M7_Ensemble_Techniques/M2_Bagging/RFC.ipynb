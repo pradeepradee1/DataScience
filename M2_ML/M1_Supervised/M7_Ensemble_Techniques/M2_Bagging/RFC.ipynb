{
 "cells": [
  {
   "cell_type": "markdown",
   "id": "ed1e3a0c",
   "metadata": {},
   "source": [
    "### RF:\n",
    "#### RF is supervised machine learning algorithm for classificaion and regression \n",
    "#### It follows the  ensemble algorithm and bagging techniques\n",
    "#### It is working on parallel method\n",
    "#### Multiple samples will feed to multiple Decision tree algorithm and output will based on the  majority voting\n"
   ]
  },
  {
   "cell_type": "code",
   "execution_count": null,
   "id": "f07872d8",
   "metadata": {},
   "outputs": [],
   "source": []
  }
 ],
 "metadata": {
  "kernelspec": {
   "display_name": "Python 3 (ipykernel)",
   "language": "python",
   "name": "python3"
  },
  "language_info": {
   "codemirror_mode": {
    "name": "ipython",
    "version": 3
   },
   "file_extension": ".py",
   "mimetype": "text/x-python",
   "name": "python",
   "nbconvert_exporter": "python",
   "pygments_lexer": "ipython3",
   "version": "3.8.10"
  }
 },
 "nbformat": 4,
 "nbformat_minor": 5
}
