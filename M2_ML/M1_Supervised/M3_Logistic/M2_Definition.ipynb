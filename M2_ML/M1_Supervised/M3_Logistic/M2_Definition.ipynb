{
 "cells": [
  {
   "cell_type": "markdown",
   "id": "a60baa2d",
   "metadata": {},
   "source": [
    "# Accuracy \n",
    "\n",
    "## Formulae : TP + TN / ( TP + FP +TN +  FN )\n",
    "\n",
    "## Ratio of Correctly Predictied to the total observations"
   ]
  },
  {
   "cell_type": "markdown",
   "id": "f5df1ef6",
   "metadata": {},
   "source": [
    "# 2"
   ]
  },
  {
   "cell_type": "markdown",
   "id": "8295da50",
   "metadata": {},
   "source": [
    "# Precision\n",
    "\n",
    "## Formulae : TP / TP + FP\n",
    "\n",
    "## Precision is the ratio of true positive predictions to the total number of positive predictions"
   ]
  },
  {
   "cell_type": "markdown",
   "id": "611c19d9",
   "metadata": {},
   "source": [
    "# 3"
   ]
  },
  {
   "cell_type": "markdown",
   "id": "09597af9",
   "metadata": {},
   "source": [
    "# Recall \n",
    "\n",
    "## Formulae : TP / TP + FN\n",
    "\n",
    "## Recall is the ratio of Correctly predictied positive observation to the all the observations in the actual class"
   ]
  },
  {
   "cell_type": "markdown",
   "id": "532e5574",
   "metadata": {},
   "source": [
    "# 4"
   ]
  },
  {
   "cell_type": "markdown",
   "id": "d1cc9138",
   "metadata": {},
   "source": [
    "# F1-score"
   ]
  },
  {
   "cell_type": "markdown",
   "id": "7c7e215c",
   "metadata": {},
   "source": [
    "# Formuale : 2 * (Precision * recall )  /  (Precision + recall  )\n",
    "\n",
    "## F1-score is the weighted average of precision and recall"
   ]
  },
  {
   "cell_type": "code",
   "execution_count": null,
   "id": "4a05dc09",
   "metadata": {},
   "outputs": [],
   "source": []
  }
 ],
 "metadata": {
  "kernelspec": {
   "display_name": "Python 3 (ipykernel)",
   "language": "python",
   "name": "python3"
  },
  "language_info": {
   "codemirror_mode": {
    "name": "ipython",
    "version": 3
   },
   "file_extension": ".py",
   "mimetype": "text/x-python",
   "name": "python",
   "nbconvert_exporter": "python",
   "pygments_lexer": "ipython3",
   "version": "3.8.10"
  }
 },
 "nbformat": 4,
 "nbformat_minor": 5
}
