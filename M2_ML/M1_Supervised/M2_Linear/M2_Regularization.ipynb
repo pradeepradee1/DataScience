{
 "cells": [
  {
   "cell_type": "markdown",
   "metadata": {},
   "source": [
    "## Regularization"
   ]
  },
  {
   "cell_type": "markdown",
   "metadata": {},
   "source": [
    "## Lasso Regression (L1 Regularization)\n",
    "### penalizes value of coefficients by introducing a penalty term in the loss function\n",
    "### This penalty term is the absolute value of coefficients\n",
    "### It can set, zero some coefficients\n",
    "### It has sparsity\n",
    "### removing those features from the model.\n",
    "### It is for feature selection"
   ]
  },
  {
   "cell_type": "code",
   "execution_count": null,
   "metadata": {},
   "outputs": [],
   "source": []
  },
  {
   "cell_type": "markdown",
   "metadata": {},
   "source": [
    "## Ridge Regression (L2 Regularization)\n",
    "### Penalizes the value of coefficients by introducing a penalty term in the MSE loss function\n",
    "### the penalty term is squared value of coefficients\n",
    "### It can set , shrinks some coefficients\n",
    "### It has no sparsity\n",
    "### retains all features in the model\n",
    "### we can use ridge for prevent overfitting model"
   ]
  },
  {
   "cell_type": "code",
   "execution_count": null,
   "metadata": {},
   "outputs": [],
   "source": []
  },
  {
   "cell_type": "markdown",
   "metadata": {},
   "source": [
    "# Differences Between the L1 and L2"
   ]
  },
  {
   "cell_type": "markdown",
   "metadata": {},
   "source": [
    "## L1 :\n",
    "### It can set, zero some coefficients\n",
    "### It has sparsity\n",
    "### removing those features from the model.\n",
    "### It is for feature selection\n",
    "\n",
    "## L2 :\n",
    "### It can set , shrinks some coefficients\n",
    "### It has no sparsity\n",
    "### retains all features in the model\n",
    "### It is for prevent overfitting model"
   ]
  },
  {
   "cell_type": "code",
   "execution_count": null,
   "metadata": {},
   "outputs": [],
   "source": []
  }
 ],
 "metadata": {
  "kernelspec": {
   "display_name": "Python 3 (ipykernel)",
   "language": "python",
   "name": "python3"
  },
  "language_info": {
   "codemirror_mode": {
    "name": "ipython",
    "version": 3
   },
   "file_extension": ".py",
   "mimetype": "text/x-python",
   "name": "python",
   "nbconvert_exporter": "python",
   "pygments_lexer": "ipython3",
   "version": "3.8.10"
  }
 },
 "nbformat": 4,
 "nbformat_minor": 2
}
