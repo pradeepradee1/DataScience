{
 "cells": [
  {
   "cell_type": "markdown",
   "id": "3e077aff",
   "metadata": {},
   "source": [
    "### Probability  : It is numerical represents of likelyhood of an Event\n",
    "#### Numerical\t\t:  Range between 0 to 1\n",
    "#### likelyhood      :  more close to number 1 , the likelyhood is high\tand more close to number 0 , the likelyhood is low\t\t\n",
    "#### for ex : \n",
    "#### 0.9 means event has more chances of occurance\n",
    "#### 0.1 means event has less chances of occurance"
   ]
  },
  {
   "cell_type": "markdown",
   "id": "14746912",
   "metadata": {},
   "source": [
    "#### Event : It is random experment \n",
    "#### Eg : Tossing the Coin , Rolling The Dice\n"
   ]
  },
  {
   "cell_type": "markdown",
   "id": "daf44fee",
   "metadata": {},
   "source": [
    "### Formulae : \n",
    "\n",
    "#### P (Event) \t= No. of items (Event)   /    No. of items (Sample)\n"
   ]
  },
  {
   "cell_type": "markdown",
   "id": "4d2729be",
   "metadata": {},
   "source": [
    "#### \t\t\t\tFor Ex : Toss a coin\n",
    "#### Event \t= { H }\n",
    "#### Sample = {\tH,T\t}\n",
    "#### P (Event)\t=    1 / 2"
   ]
  },
  {
   "cell_type": "markdown",
   "id": "31479ccc",
   "metadata": {},
   "source": [
    "### Odds Ratio :\n",
    "#### OR \t=\t\tP  /  1 - P\n"
   ]
  },
  {
   "cell_type": "markdown",
   "id": "52a988a0",
   "metadata": {},
   "source": [
    "#### If p = 0.5\n",
    " #### then OD = 1 , if mean Odd ration is favour of Probability"
   ]
  },
  {
   "cell_type": "markdown",
   "id": "29ecca04",
   "metadata": {},
   "source": [
    "### Types Of Events :\n",
    "\t\t\t\n",
    "#### 1) Independent \t:\n",
    "#### 2) Dependent \t:\n",
    "#### 3) Mutually Exclusive \t: \tTwo event can't occurance together"
   ]
  },
  {
   "cell_type": "markdown",
   "id": "233e7860",
   "metadata": {},
   "source": [
    "### Types Of Probability :\n",
    "\t\t\t\n",
    "#### 1) Joint Probability :  \n",
    "#### 2) Conditional Probability (Naive Bayeson) :"
   ]
  },
  {
   "cell_type": "code",
   "execution_count": null,
   "id": "f4db4d74",
   "metadata": {},
   "outputs": [],
   "source": []
  }
 ],
 "metadata": {
  "kernelspec": {
   "display_name": "Python 3 (ipykernel)",
   "language": "python",
   "name": "python3"
  },
  "language_info": {
   "codemirror_mode": {
    "name": "ipython",
    "version": 3
   },
   "file_extension": ".py",
   "mimetype": "text/x-python",
   "name": "python",
   "nbconvert_exporter": "python",
   "pygments_lexer": "ipython3",
   "version": "3.8.10"
  }
 },
 "nbformat": 4,
 "nbformat_minor": 5
}
