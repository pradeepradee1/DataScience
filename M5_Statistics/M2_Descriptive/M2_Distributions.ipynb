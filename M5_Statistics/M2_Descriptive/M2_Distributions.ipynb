{
 "cells": [
  {
   "cell_type": "markdown",
   "id": "99d28c0a",
   "metadata": {},
   "source": [
    "### 1) Frequency Of Distribution\n",
    "#### 1.1) Probability Density Functions (Continous)\n",
    "#### 1.2) Probability Mass Functions (Discrete)"
   ]
  },
  {
   "cell_type": "markdown",
   "id": "67063da3",
   "metadata": {},
   "source": [
    "### 1.1) Probability Density Functions (Continous)"
   ]
  },
  {
   "cell_type": "markdown",
   "id": "22367e2a",
   "metadata": {},
   "source": [
    "#### 2.1 ) Normal / Gaussian distributions\n",
    "#### 2.2 ) Standard Normal distributions\n",
    "#### 2.3 ) z-score\n",
    "#### 2.4 ) log-normal distributions"
   ]
  },
  {
   "cell_type": "markdown",
   "id": "7b909248",
   "metadata": {},
   "source": [
    "### 2.1 ) Normal distributions : \n",
    "#### It is continuous probability density functions which gives the symmetrical bell curve\n",
    "#### that is frequently used to represent real-valued random variables"
   ]
  },
  {
   "cell_type": "markdown",
   "id": "021d3a63",
   "metadata": {},
   "source": [
    "### 2.2) Standard Normal distributions (Standardization) :"
   ]
  },
  {
   "cell_type": "markdown",
   "id": "5a249a05",
   "metadata": {},
   "source": [
    "#### A Standard Normal Distribution is a type of normal distribution with a mean of 0 and a standard deviation of 1\n",
    "#### Standardization is also known as z-score normalization"
   ]
  },
  {
   "cell_type": "markdown",
   "id": "6961c96c",
   "metadata": {},
   "source": [
    "### 2.3) Z-Score :\n",
    "#### It is a measure of how many standard deviations away from the mean a raw score is called z score"
   ]
  },
  {
   "cell_type": "code",
   "execution_count": 2,
   "id": "0f914fd2",
   "metadata": {},
   "outputs": [
    {
     "data": {
      "image/png": "[encoded data removed]",
      "text/plain": [
       "<Figure size 720x2880 with 1 Axes>"
      ]
     },
     "metadata": {
      "needs_background": "light"
     },
     "output_type": "display_data"
    }
   ],
   "source": [
    "import matplotlib.image as mpimg\n",
    "import matplotlib.pyplot as plt\n",
    "img = mpimg.imread('../M9_Images/zscore.png')\n",
    "plt.figure(figsize=(10,40))\n",
    "plt.imshow(img)\n",
    "plt.show()"
   ]
  },
  {
   "cell_type": "markdown",
   "id": "23298821",
   "metadata": {},
   "source": [
    "### 2.4 Log-Normal Distributions:\n",
    "#### It is a continuous probability distribution that models right-skewed data.\n",
    "####  log-normal distribution can be translated to a normal distribution and vice versa using associated logarithmic calculations"
   ]
  },
  {
   "cell_type": "markdown",
   "id": "c367b061",
   "metadata": {},
   "source": [
    "### 1.2) Probability Mass Functions (Discrete)\n",
    "#### 2.5 ) Binomial distributions\n",
    "#### 2.6 ) Multimonial or Polynomial distributions"
   ]
  },
  {
   "cell_type": "markdown",
   "id": "2c4bd61d",
   "metadata": {},
   "source": [
    "### 2.6) Binomial distributions:\n",
    "#### The binomial distribution is a type of discrete probability distribution\n",
    "#### It has two possible outcomes"
   ]
  },
  {
   "cell_type": "markdown",
   "id": "3253c175",
   "metadata": {},
   "source": [
    "### 2.5) Multimonial/Polynomial Distribution:\n",
    "#### Bernoulli Distribution is a type of discrete probability distribution\n",
    "#### It has more than tow possible outcomes"
   ]
  },
  {
   "cell_type": "code",
   "execution_count": null,
   "id": "26f80d28",
   "metadata": {},
   "outputs": [],
   "source": []
  },
  {
   "cell_type": "code",
   "execution_count": null,
   "id": "09c106e4",
   "metadata": {},
   "outputs": [],
   "source": []
  },
  {
   "cell_type": "code",
   "execution_count": null,
   "id": "84357faa",
   "metadata": {},
   "outputs": [],
   "source": []
  }
 ],
 "metadata": {
  "kernelspec": {
   "display_name": "Python 3 (ipykernel)",
   "language": "python",
   "name": "python3"
  },
  "language_info": {
   "codemirror_mode": {
    "name": "ipython",
    "version": 3
   },
   "file_extension": ".py",
   "mimetype": "text/x-python",
   "name": "python",
   "nbconvert_exporter": "python",
   "pygments_lexer": "ipython3",
   "version": "3.8.10"
  }
 },
 "nbformat": 4,
 "nbformat_minor": 5
}
