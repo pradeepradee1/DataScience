{
 "cells": [
  {
   "cell_type": "markdown",
   "id": "99e3c8b3",
   "metadata": {},
   "source": [
    "### Population : It includes all the elements from the data set and measurable characteristics of the population and it is denoted by N"
   ]
  },
  {
   "cell_type": "markdown",
   "id": "1b5647c6",
   "metadata": {},
   "source": [
    "### Sample : It is a portion of the population selected for observation or analysis and it is denoted by n"
   ]
  },
  {
   "cell_type": "markdown",
   "id": "845ba353",
   "metadata": {},
   "source": [
    "### Sampling Techniques\n",
    "#### 1) Simple Random Sampling\n",
    "#### 2) Stratified Sampling\n",
    "#### 3) Systematic Sampling\n",
    "#### 4) Convenience Sampling\n",
    "#### 5) Snowball / Referal Sampling"
   ]
  },
  {
   "cell_type": "markdown",
   "id": "9e2016b7",
   "metadata": {},
   "source": [
    "### 1) Simple Random Sampling : \n",
    "#### It is most standard Probability approach\n",
    "#### It is a method where individuals are selected randomly from the population \n",
    "#### so each has an equal chance of being selected"
   ]
  },
  {
   "cell_type": "markdown",
   "id": "65eb7666",
   "metadata": {},
   "source": [
    "### 2) Stratified Sampling : \n",
    "#### The sampling will be done based on characteristics,( age, income, education etc )"
   ]
  },
  {
   "cell_type": "markdown",
   "id": "cc304a1d",
   "metadata": {},
   "source": [
    "### 3) Systematic Sampling : \n",
    "#### It is a method where individuals are selected systematicly not randomly selected from the population \n",
    "#### The sampling will be done based on every n th individual of sub-populations\n",
    "#### For Ex : every of 2 nd person from the sub-populations"
   ]
  },
  {
   "cell_type": "markdown",
   "id": "3f5f3ef9",
   "metadata": {},
   "source": [
    "### 4) Convenience Sampling : \n",
    "#### It is non-Probability approach\n",
    "#### The sampling will be done based on the people who is interested will only to be participating"
   ]
  },
  {
   "cell_type": "markdown",
   "id": "90278a00",
   "metadata": {},
   "source": [
    "### 5) Referral / Snowball Sampling : \n",
    "#### It is non-Probability approach\n",
    "#### The sampling will be done based on  which individuals are selected based on referrals from others in the sample"
   ]
  },
  {
   "cell_type": "code",
   "execution_count": null,
   "id": "72da29e5",
   "metadata": {},
   "outputs": [],
   "source": []
  }
 ],
 "metadata": {
  "kernelspec": {
   "display_name": "Python 3 (ipykernel)",
   "language": "python",
   "name": "python3"
  },
  "language_info": {
   "codemirror_mode": {
    "name": "ipython",
    "version": 3
   },
   "file_extension": ".py",
   "mimetype": "text/x-python",
   "name": "python",
   "nbconvert_exporter": "python",
   "pygments_lexer": "ipython3",
   "version": "3.8.10"
  }
 },
 "nbformat": 4,
 "nbformat_minor": 5
}
