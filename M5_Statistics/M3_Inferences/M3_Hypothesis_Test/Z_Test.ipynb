{
 "cells": [
  {
   "cell_type": "code",
   "execution_count": 1,
   "id": "72e97b54",
   "metadata": {},
   "outputs": [],
   "source": [
    "import numpy as np\n",
    "import scipy.stats as stats"
   ]
  },
  {
   "cell_type": "markdown",
   "id": "0da9b406",
   "metadata": {},
   "source": [
    "### Questions :\n",
    "#### To see if young men ages 8 - 17  years spend a different amount than the national average of 24.44 USD per shopping trip to local mall with a standard deviation of 3.70 USD the manager surveyed 40 random young men.\n",
    "\n",
    "#### she found that the average amount spent per trip was 23,37 USD with alpha = 0.05 can it be conclueded that 8-17 years old spent a different amount at the local mall than  the national average"
   ]
  },
  {
   "cell_type": "markdown",
   "id": "3782184b",
   "metadata": {},
   "source": [
    "#### Step1:\n",
    "#### H0 : mu - 24.44\n",
    "#### Ha : mu != 24.44 "
   ]
  },
  {
   "cell_type": "code",
   "execution_count": 2,
   "id": "5360d9d6",
   "metadata": {},
   "outputs": [],
   "source": [
    "mu = 24.44\n",
    "sigma = 3.70\n",
    "\n",
    "n = 40\n",
    "alpha = 0.05\n",
    "x_bar = 23.37"
   ]
  },
  {
   "cell_type": "code",
   "execution_count": 3,
   "id": "b677665e",
   "metadata": {},
   "outputs": [
    {
     "data": {
      "text/plain": [
       "1.9599639845400545"
      ]
     },
     "execution_count": 3,
     "metadata": {},
     "output_type": "execute_result"
    }
   ],
   "source": [
    "critical_value = stats.norm.isf(alpha/2)\n",
    "critical_value"
   ]
  },
  {
   "cell_type": "code",
   "execution_count": 4,
   "id": "0e352910",
   "metadata": {},
   "outputs": [
    {
     "name": "stdout",
     "output_type": "stream",
     "text": [
      "-1.8289930250703605\n"
     ]
    }
   ],
   "source": [
    "z_test_stats = (x_bar - mu ) / (sigma/np.sqrt(n))\n",
    "print(z_test_stats)"
   ]
  },
  {
   "cell_type": "code",
   "execution_count": 5,
   "id": "8f229e65",
   "metadata": {},
   "outputs": [
    {
     "name": "stdout",
     "output_type": "stream",
     "text": [
      "Failed to Reject The H0\n"
     ]
    }
   ],
   "source": [
    "if ((z_test_stats > critical_value ) | (z_test_stats <(0 - critical_value ))):\n",
    "    print(\"Reject The H0\")\n",
    "else:\n",
    "    print(\"Failed to Reject The H0\")"
   ]
  },
  {
   "cell_type": "markdown",
   "id": "a7096099",
   "metadata": {},
   "source": [
    "### Conculsion : \n",
    "#### Here we failed the the H0\n",
    "#### Therefore mu = 24.44"
   ]
  },
  {
   "cell_type": "code",
   "execution_count": null,
   "id": "494d9e9d",
   "metadata": {},
   "outputs": [],
   "source": []
  }
 ],
 "metadata": {
  "kernelspec": {
   "display_name": "Python 3 (ipykernel)",
   "language": "python",
   "name": "python3"
  },
  "language_info": {
   "codemirror_mode": {
    "name": "ipython",
    "version": 3
   },
   "file_extension": ".py",
   "mimetype": "text/x-python",
   "name": "python",
   "nbconvert_exporter": "python",
   "pygments_lexer": "ipython3",
   "version": "3.8.10"
  }
 },
 "nbformat": 4,
 "nbformat_minor": 5
}
