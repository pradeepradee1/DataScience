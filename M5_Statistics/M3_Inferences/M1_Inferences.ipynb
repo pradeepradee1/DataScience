{
 "cells": [
  {
   "cell_type": "markdown",
   "id": "d990f0fd",
   "metadata": {},
   "source": [
    "### Inferences : It helps study a sample of data and make conclusions about its population."
   ]
  },
  {
   "cell_type": "markdown",
   "id": "f2c3019f",
   "metadata": {},
   "source": [
    "### Categories :\n",
    "#### 1) P-value\n",
    "#### 2) Hypothesis tesing\n",
    "#### 3) Confindence Interval\n",
    "#### 4) T test\n",
    "#### 5) Z test\n",
    "#### 6) f test\n",
    "#### 7) Chi-Test\n",
    "#### 8) Central Limit Theorem"
   ]
  },
  {
   "cell_type": "markdown",
   "id": "2b533f38",
   "metadata": {},
   "source": [
    "## 1) P-value (or) Significance value (or) alpha value :\n",
    "#### It is probability value of null hypothesis being true.\n",
    "\n",
    "### What is Null Hypothesis ? \n",
    "#### An assumption that treat everything equal and similar.\n",
    "\n",
    "#### Ex : GDP before covid  and GDP after covid  are same (Similar) (Null Hypothesis ) and Resachers is telling that GDP might fall by 5 %\n",
    "\n",
    "### Define significane level  = 0.05 ?\n",
    "#### 5% case null hypothesis hold true (or) 5 country of GDP are same , out of 100 country of GDP \n",
    "\n",
    "#### What Confidence we reject the null hypothesis ?\n",
    "\n",
    "#### < 0.01 \t\t\t= \tvery strong evidence aganist null hypothesis \n",
    "#### (Reject the null hypothesis , Accept the alternative hypothesis) \n",
    "#### (only 1% null hypothesis hold true, 99% Null hypothesis false)\n",
    "#### < 0.01 & 0.05 \t= \tstrong evidence aganist null hypothesis \n",
    "#### < 0.05 & 0.1 \t= \tMild evidence aganist null hypothesis \n",
    "#### > 0.1 \t\t\t= \tNo evidence aganist null hypothesis (Accept the null hypothesis)"
   ]
  },
  {
   "cell_type": "markdown",
   "id": "40ee64c7",
   "metadata": {},
   "source": [
    "## 2) Hypothesis testing \n",
    "#### It is Statistical test \n",
    "#### The Process of Accepting or rejecting null hypothesis test\n",
    "#### we can make a decision based on the evidence provided by the sample data\n",
    "#### H0 is called as the Null Hypothesis\n",
    "#### H1 is called as the Alternate Hypothesis\n",
    "### What is Statiscal Test ?\n",
    "#### T-test , Chi Square , Anova test, Z test"
   ]
  },
  {
   "cell_type": "markdown",
   "id": "322e83e3",
   "metadata": {},
   "source": [
    "## 3) Confidence Interval\n",
    "#### A confidence interval is a range of values\n",
    "#### Measurement is expected to fall within a certain percentage of the time\n",
    "#### For Ex : 1 - 0.05 (P-value) = 0.95 \n",
    "#### CI is 95 %"
   ]
  },
  {
   "cell_type": "markdown",
   "id": "07c6e5ec",
   "metadata": {},
   "source": [
    "## 4) T-Test:\n",
    "#### It is a statistical test \n",
    "#### To find Significant difference between  the means of two groups.\n",
    "#### when the population standard deviations are unknown (or) the sample size is small"
   ]
  },
  {
   "cell_type": "markdown",
   "id": "ef27d4a9",
   "metadata": {},
   "source": [
    "## 5) Z-Test:\n",
    "#### It is a statistical test \n",
    "#### To find Significant difference between the means of two groups.\n",
    "#### when the population standard deviations are known or the sample size is large than >= 30"
   ]
  },
  {
   "cell_type": "markdown",
   "id": "9a1333f3",
   "metadata": {},
   "source": [
    "## 6) ANOVA Test:\n",
    "#### to find the Significant difference between  the means of more than two groups."
   ]
  },
  {
   "cell_type": "markdown",
   "id": "f7ed5f7e",
   "metadata": {},
   "source": [
    "## 7) Chi-Test\n",
    "#### It is statistical test \n",
    "#### To find the significant association between two categorical variables."
   ]
  },
  {
   "cell_type": "markdown",
   "id": "37320f4b",
   "metadata": {},
   "source": [
    "## 8) Central Limit Theorem:\n",
    "#### The mean of all samples will be approximately equal to the mean of the population\n",
    "#### The distribution of sample means is normal distributions."
   ]
  },
  {
   "cell_type": "code",
   "execution_count": null,
   "id": "d6cd2396",
   "metadata": {},
   "outputs": [],
   "source": []
  },
  {
   "cell_type": "code",
   "execution_count": null,
   "id": "9c4652ce",
   "metadata": {},
   "outputs": [],
   "source": []
  },
  {
   "cell_type": "code",
   "execution_count": null,
   "id": "d77836a4",
   "metadata": {},
   "outputs": [],
   "source": []
  }
 ],
 "metadata": {
  "kernelspec": {
   "display_name": "Python 3 (ipykernel)",
   "language": "python",
   "name": "python3"
  },
  "language_info": {
   "codemirror_mode": {
    "name": "ipython",
    "version": 3
   },
   "file_extension": ".py",
   "mimetype": "text/x-python",
   "name": "python",
   "nbconvert_exporter": "python",
   "pygments_lexer": "ipython3",
   "version": "3.8.10"
  }
 },
 "nbformat": 4,
 "nbformat_minor": 5
}
