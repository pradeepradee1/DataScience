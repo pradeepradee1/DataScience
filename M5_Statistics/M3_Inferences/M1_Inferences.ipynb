{
 "cells": [
  {
   "cell_type": "markdown",
   "id": "d990f0fd",
   "metadata": {},
   "source": [
    "### Inferences : It helps study a sample of data and make conclusions about its population."
   ]
  },
  {
   "cell_type": "markdown",
   "id": "f2c3019f",
   "metadata": {},
   "source": [
    "### Categories :\n",
    "#### 1) Hypothesis tesing\n",
    "#### 2) P-value\n",
    "#### 3) Confindence Interval\n",
    "#### 4) Z test\n",
    "#### 5) t test\n",
    "#### 6) f test\n",
    "#### 7) Chi-Test\n",
    "#### 8) Central Limit Theorem"
   ]
  },
  {
   "cell_type": "markdown",
   "id": "40ee64c7",
   "metadata": {},
   "source": [
    "### 1) Hypothesis testing \n",
    "#### It is Statistical test \n",
    "#### Evaluate two mutal exclusive statement on population using sample data\n",
    "#### H0 is called as the Null Hypothesis\n",
    "#### H1 is called as the Alternate Hypothesis\n",
    "#### Note : we can use more than two (ANOVA)"
   ]
  },
  {
   "cell_type": "markdown",
   "id": "2b533f38",
   "metadata": {},
   "source": [
    "### 2) P-value (or) Significance value (or) alpha value\n",
    "#### It is probability value\n",
    "#### used to determine the likelihood that result of the observed outcome \n",
    "#### P-value range between 0 and 1.\n",
    "#### The value which is less than 0.05 considered as statistically significant"
   ]
  },
  {
   "cell_type": "markdown",
   "id": "322e83e3",
   "metadata": {},
   "source": [
    "### 3) Confidence Interval\n",
    "#### A confidence interval is a range of values\n",
    "#### Measurement is expected to fall within a certain percentage of the time\n",
    "#### For Ex : 1 - 0.05 (P-value) = 0.95 \n",
    "#### CI is 95 %"
   ]
  },
  {
   "cell_type": "markdown",
   "id": "ef27d4a9",
   "metadata": {},
   "source": [
    "### 3) Z-Test:\n",
    "#### It is a statistical test \n",
    "#### To find the significant association between two variables.\n",
    "#### when the population variance is known or the sample size is large than >= 30"
   ]
  },
  {
   "cell_type": "markdown",
   "id": "07c6e5ec",
   "metadata": {},
   "source": [
    "### 4) T-Test:\n",
    "#### It is a statistical test \n",
    "#### To find the significant association between two  variables.\n",
    "#### when the population variance is unknown or the sample size is less than <= 30"
   ]
  },
  {
   "cell_type": "markdown",
   "id": "f7ed5f7e",
   "metadata": {},
   "source": [
    "### 5) Chi-Test\n",
    "#### It is statistical test \n",
    "#### To find the significant association between two categorical variables."
   ]
  },
  {
   "cell_type": "markdown",
   "id": "9a1333f3",
   "metadata": {},
   "source": [
    "### 6) ANOVA Test:\n",
    "#### ANOVA stands for Analysis of Variance. \n",
    "#### To find the significant association between two or more groups variables."
   ]
  },
  {
   "cell_type": "markdown",
   "id": "37320f4b",
   "metadata": {},
   "source": [
    "### 7) Central Limit Theorem:\n",
    "#### The mean of all samples will be approximately equal to the mean of the population\n",
    "#### The distribution of means will approach normality."
   ]
  },
  {
   "cell_type": "code",
   "execution_count": null,
   "id": "d6cd2396",
   "metadata": {},
   "outputs": [],
   "source": []
  }
 ],
 "metadata": {
  "kernelspec": {
   "display_name": "Python 3 (ipykernel)",
   "language": "python",
   "name": "python3"
  },
  "language_info": {
   "codemirror_mode": {
    "name": "ipython",
    "version": 3
   },
   "file_extension": ".py",
   "mimetype": "text/x-python",
   "name": "python",
   "nbconvert_exporter": "python",
   "pygments_lexer": "ipython3",
   "version": "3.8.10"
  }
 },
 "nbformat": 4,
 "nbformat_minor": 5
}
