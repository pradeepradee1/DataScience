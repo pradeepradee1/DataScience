{
 "cells": [
  {
   "cell_type": "code",
   "execution_count": 1,
   "metadata": {
    "executionInfo": {
     "elapsed": 5962,
     "status": "ok",
     "timestamp": 1676810432891,
     "user": {
      "displayName": "Boktiar Ahmed Bappy",
      "userId": "10381972055342951581"
     },
     "user_tz": -360
    },
    "id": "-YUhuwSNWkIR"
   },
   "outputs": [
    {
     "name": "stderr",
     "output_type": "stream",
     "text": [
      "2023-12-22 13:07:27.715305: I tensorflow/core/util/util.cc:169] oneDNN custom operations are on. You may see slightly different numerical results due to floating-point round-off errors from different computation orders. To turn them off, set the environment variable `TF_ENABLE_ONEDNN_OPTS=0`.\n",
      "2023-12-22 13:07:27.718701: W tensorflow/stream_executor/platform/default/dso_loader.cc:64] Could not load dynamic library 'libcudart.so.11.0'; dlerror: libcudart.so.11.0: cannot open shared object file: No such file or directory\n",
      "2023-12-22 13:07:27.718716: I tensorflow/stream_executor/cuda/cudart_stub.cc:29] Ignore above cudart dlerror if you do not have a GPU set up on your machine.\n"
     ]
    }
   ],
   "source": [
    "import tensorflow as tf\n",
    "from tensorflow import keras\n",
    "import keras\n",
    "from keras.models import Sequential\n",
    "from keras.layers import Dense, Activation, Dropout, Flatten, Conv2D, MaxPooling2D\n",
    "from tensorflow.keras.layers import BatchNormalization"
   ]
  },
  {
   "cell_type": "code",
   "execution_count": 3,
   "metadata": {
    "colab": {
     "base_uri": "https://localhost:8080/"
    },
    "executionInfo": {
     "elapsed": 6240,
     "status": "ok",
     "timestamp": 1676810446091,
     "user": {
      "displayName": "Boktiar Ahmed Bappy",
      "userId": "10381972055342951581"
     },
     "user_tz": -360
    },
    "id": "iuIEOwl7W9CL",
    "outputId": "9f8bafed-6ff9-41dc-cd12-9e1cc2c6df4e"
   },
   "outputs": [],
   "source": [
    "# !pip install tflearn "
   ]
  },
  {
   "cell_type": "code",
   "execution_count": 4,
   "metadata": {
    "colab": {
     "base_uri": "https://localhost:8080/"
    },
    "executionInfo": {
     "elapsed": 24864,
     "status": "ok",
     "timestamp": 1676810519711,
     "user": {
      "displayName": "Boktiar Ahmed Bappy",
      "userId": "10381972055342951581"
     },
     "user_tz": -360
    },
    "id": "c60kGVJ5XCpN",
    "outputId": "e6d61f54-48f7-4906-9ed5-b37f30f206cf"
   },
   "outputs": [
    {
     "name": "stdout",
     "output_type": "stream",
     "text": [
      "WARNING:tensorflow:From /home/pradeep.k@zucisystems.com/workspace_working_Repo/ML/envname/lib/python3.8/site-packages/tensorflow/python/compat/v2_compat.py:107: disable_resource_variables (from tensorflow.python.ops.variable_scope) is deprecated and will be removed in a future version.\n",
      "Instructions for updating:\n",
      "non-resource variables are not supported in the long term\n",
      "Downloading Oxford 17 category Flower Dataset, Please wait...\n"
     ]
    },
    {
     "name": "stderr",
     "output_type": "stream",
     "text": [
      "100.0% 60276736 / 60270631\n"
     ]
    },
    {
     "name": "stdout",
     "output_type": "stream",
     "text": [
      "Succesfully downloaded 17flowers.tgz 60270631 bytes.\n",
      "File Extracted\n",
      "Starting to parse images...\n",
      "Parsing Done!\n"
     ]
    }
   ],
   "source": [
    "# Get Data\n",
    "import tflearn.datasets.oxflower17 as oxflower17\n",
    "x, y = oxflower17.load_data(one_hot=True)"
   ]
  },
  {
   "cell_type": "code",
   "execution_count": 5,
   "metadata": {
    "colab": {
     "base_uri": "https://localhost:8080/"
    },
    "executionInfo": {
     "elapsed": 17,
     "status": "ok",
     "timestamp": 1676810519712,
     "user": {
      "displayName": "Boktiar Ahmed Bappy",
      "userId": "10381972055342951581"
     },
     "user_tz": -360
    },
    "id": "Ermoh8NOXUHZ",
    "outputId": "52f82602-cc80-4346-ccd1-c8f5b76fc6cf"
   },
   "outputs": [
    {
     "data": {
      "text/plain": [
       "array([[[[0.00784314, 0.01568628, 0.01176471],\n",
       "         [0.00784314, 0.01568628, 0.01176471],\n",
       "         [0.00784314, 0.01568628, 0.01176471],\n",
       "         ...,\n",
       "         [0.00392157, 0.01176471, 0.00784314],\n",
       "         [0.00392157, 0.01176471, 0.00784314],\n",
       "         [0.00392157, 0.01176471, 0.00784314]],\n",
       "\n",
       "        [[0.00784314, 0.01568628, 0.01176471],\n",
       "         [0.00784314, 0.01568628, 0.01176471],\n",
       "         [0.00784314, 0.01568628, 0.01176471],\n",
       "         ...,\n",
       "         [0.00392157, 0.01176471, 0.00784314],\n",
       "         [0.00392157, 0.01176471, 0.00784314],\n",
       "         [0.00392157, 0.01176471, 0.00784314]],\n",
       "\n",
       "        [[0.00784314, 0.01568628, 0.01176471],\n",
       "         [0.00784314, 0.01568628, 0.01176471],\n",
       "         [0.00784314, 0.01568628, 0.01176471],\n",
       "         ...,\n",
       "         [0.00784314, 0.01568628, 0.01176471],\n",
       "         [0.00784314, 0.01568628, 0.01176471],\n",
       "         [0.00784314, 0.01568628, 0.01176471]],\n",
       "\n",
       "        ...,\n",
       "\n",
       "        [[0.00784314, 0.01568628, 0.01176471],\n",
       "         [0.00784314, 0.01568628, 0.01176471],\n",
       "         [0.00784314, 0.01568628, 0.01176471],\n",
       "         ...,\n",
       "         [0.00784314, 0.01568628, 0.01176471],\n",
       "         [0.00784314, 0.01568628, 0.01176471],\n",
       "         [0.00784314, 0.01568628, 0.01176471]],\n",
       "\n",
       "        [[0.00784314, 0.01568628, 0.01176471],\n",
       "         [0.00784314, 0.01568628, 0.01176471],\n",
       "         [0.00784314, 0.01568628, 0.01176471],\n",
       "         ...,\n",
       "         [0.00784314, 0.01568628, 0.01176471],\n",
       "         [0.00784314, 0.01568628, 0.01176471],\n",
       "         [0.00784314, 0.01568628, 0.01176471]],\n",
       "\n",
       "        [[0.00784314, 0.01568628, 0.01176471],\n",
       "         [0.00392157, 0.01176471, 0.00784314],\n",
       "         [0.00784314, 0.01568628, 0.01176471],\n",
       "         ...,\n",
       "         [0.00784314, 0.01568628, 0.01176471],\n",
       "         [0.00784314, 0.01568628, 0.01176471],\n",
       "         [0.00784314, 0.01568628, 0.01176471]]],\n",
       "\n",
       "\n",
       "       [[[0.8392157 , 0.91764706, 0.73333335],\n",
       "         [0.7882353 , 0.8666667 , 0.6392157 ],\n",
       "         [0.76862746, 0.85490197, 0.5529412 ],\n",
       "         ...,\n",
       "         [0.63529414, 0.6392157 , 0.61960787],\n",
       "         [0.6392157 , 0.6431373 , 0.6156863 ],\n",
       "         [0.64705884, 0.654902  , 0.6117647 ]],\n",
       "\n",
       "        [[0.76862746, 0.84705883, 0.5882353 ],\n",
       "         [0.5686275 , 0.6627451 , 0.34509805],\n",
       "         [0.58431375, 0.68235296, 0.29803923],\n",
       "         ...,\n",
       "         [0.07843138, 0.08235294, 0.0627451 ],\n",
       "         [0.1254902 , 0.12941177, 0.09411765],\n",
       "         [0.18039216, 0.1882353 , 0.14117648]],\n",
       "\n",
       "        [[0.77254903, 0.85882354, 0.5176471 ],\n",
       "         [0.6039216 , 0.69411767, 0.3019608 ],\n",
       "         [0.63529414, 0.7411765 , 0.27450982],\n",
       "         ...,\n",
       "         [0.14901961, 0.15294118, 0.11764706],\n",
       "         [0.2       , 0.20784314, 0.15294118],\n",
       "         [0.2509804 , 0.25882354, 0.20392157]],\n",
       "\n",
       "        ...,\n",
       "\n",
       "        [[0.6784314 , 0.7372549 , 0.5764706 ],\n",
       "         [0.3882353 , 0.45882353, 0.2509804 ],\n",
       "         [0.4       , 0.48235294, 0.21176471],\n",
       "         ...,\n",
       "         [0.54901963, 0.6666667 , 0.39215687],\n",
       "         [0.5647059 , 0.6745098 , 0.40392157],\n",
       "         [0.5764706 , 0.6784314 , 0.43137255]],\n",
       "\n",
       "        [[0.7294118 , 0.79607844, 0.62352943],\n",
       "         [0.47058824, 0.5568628 , 0.34117648],\n",
       "         [0.4117647 , 0.5176471 , 0.23921569],\n",
       "         ...,\n",
       "         [0.54901963, 0.67058825, 0.39215687],\n",
       "         [0.59607846, 0.7058824 , 0.4392157 ],\n",
       "         [0.57254905, 0.6745098 , 0.42352942]],\n",
       "\n",
       "        [[0.7411765 , 0.80784315, 0.63529414],\n",
       "         [0.4862745 , 0.5764706 , 0.35686275],\n",
       "         [0.44313726, 0.56078434, 0.27450982],\n",
       "         ...,\n",
       "         [0.5647059 , 0.6862745 , 0.40784314],\n",
       "         [0.6117647 , 0.72156864, 0.45490196],\n",
       "         [0.5137255 , 0.6156863 , 0.3647059 ]]],\n",
       "\n",
       "\n",
       "       [[[0.5372549 , 0.73333335, 0.8352941 ],\n",
       "         [0.54509807, 0.7372549 , 0.8509804 ],\n",
       "         [0.5411765 , 0.7294118 , 0.8627451 ],\n",
       "         ...,\n",
       "         [0.27450982, 0.6431373 , 0.8862745 ],\n",
       "         [0.29803923, 0.67058825, 0.9098039 ],\n",
       "         [0.30588236, 0.6745098 , 0.91764706]],\n",
       "\n",
       "        [[0.53333336, 0.7294118 , 0.83137256],\n",
       "         [0.5411765 , 0.73333335, 0.84705883],\n",
       "         [0.5411765 , 0.7294118 , 0.85882354],\n",
       "         ...,\n",
       "         [0.2784314 , 0.654902  , 0.89411765],\n",
       "         [0.29803923, 0.6784314 , 0.9137255 ],\n",
       "         [0.29803923, 0.68235296, 0.9137255 ]],\n",
       "\n",
       "        [[0.5294118 , 0.7294118 , 0.83137256],\n",
       "         [0.5372549 , 0.7294118 , 0.84313726],\n",
       "         [0.5372549 , 0.73333335, 0.85882354],\n",
       "         ...,\n",
       "         [0.28235295, 0.6784314 , 0.90588236],\n",
       "         [0.2901961 , 0.6862745 , 0.9137255 ],\n",
       "         [0.2901961 , 0.6862745 , 0.9137255 ]],\n",
       "\n",
       "        ...,\n",
       "\n",
       "        [[0.6431373 , 0.7411765 , 0.63529414],\n",
       "         [0.52156866, 0.60784316, 0.5058824 ],\n",
       "         [0.5372549 , 0.6117647 , 0.5137255 ],\n",
       "         ...,\n",
       "         [0.13333334, 0.26666668, 0.01960784],\n",
       "         [0.10980392, 0.24705882, 0.00784314],\n",
       "         [0.08235294, 0.22352941, 0.        ]],\n",
       "\n",
       "        [[0.7411765 , 0.83137256, 0.70980394],\n",
       "         [0.74509805, 0.8392157 , 0.7176471 ],\n",
       "         [0.75686276, 0.84313726, 0.72156864],\n",
       "         ...,\n",
       "         [0.12941177, 0.27058825, 0.02745098],\n",
       "         [0.10980392, 0.25882354, 0.01568628],\n",
       "         [0.08235294, 0.23529412, 0.        ]],\n",
       "\n",
       "        [[0.7294118 , 0.8235294 , 0.6862745 ],\n",
       "         [0.74509805, 0.8392157 , 0.7058824 ],\n",
       "         [0.7647059 , 0.84705883, 0.7137255 ],\n",
       "         ...,\n",
       "         [0.12941177, 0.27058825, 0.02745098],\n",
       "         [0.10588235, 0.25882354, 0.01568628],\n",
       "         [0.08627451, 0.24313726, 0.00392157]]],\n",
       "\n",
       "\n",
       "       ...,\n",
       "\n",
       "\n",
       "       [[[0.23921569, 0.2784314 , 0.10980392],\n",
       "         [0.18431373, 0.21176471, 0.07058824],\n",
       "         [0.14117648, 0.14509805, 0.07058824],\n",
       "         ...,\n",
       "         [0.12941177, 0.1254902 , 0.08235294],\n",
       "         [0.19215687, 0.16862746, 0.07843138],\n",
       "         [0.29411766, 0.25490198, 0.13333334]],\n",
       "\n",
       "        [[0.20784314, 0.24705882, 0.09803922],\n",
       "         [0.15294118, 0.1764706 , 0.05882353],\n",
       "         [0.09411765, 0.09803922, 0.03137255],\n",
       "         ...,\n",
       "         [0.05098039, 0.04705882, 0.01176471],\n",
       "         [0.09411765, 0.07450981, 0.00392157],\n",
       "         [0.19607843, 0.16862746, 0.0627451 ]],\n",
       "\n",
       "        [[0.20784314, 0.25490198, 0.13333334],\n",
       "         [0.14901961, 0.18431373, 0.08235294],\n",
       "         [0.09019608, 0.09803922, 0.04313726],\n",
       "         ...,\n",
       "         [0.04705882, 0.04313726, 0.01960784],\n",
       "         [0.08235294, 0.06666667, 0.01176471],\n",
       "         [0.15686275, 0.14117648, 0.05490196]],\n",
       "\n",
       "        ...,\n",
       "\n",
       "        [[0.09019608, 0.13725491, 0.05098039],\n",
       "         [0.09411765, 0.14117648, 0.05882353],\n",
       "         [0.09411765, 0.13725491, 0.0627451 ],\n",
       "         ...,\n",
       "         [0.39215687, 0.5294118 , 0.19215687],\n",
       "         [0.3764706 , 0.49411765, 0.1764706 ],\n",
       "         [0.38431373, 0.49411765, 0.1882353 ]],\n",
       "\n",
       "        [[0.10196079, 0.13333334, 0.07058824],\n",
       "         [0.10196079, 0.13333334, 0.06666667],\n",
       "         [0.10196079, 0.13333334, 0.0627451 ],\n",
       "         ...,\n",
       "         [0.36078432, 0.4862745 , 0.15294118],\n",
       "         [0.37254903, 0.5058824 , 0.1764706 ],\n",
       "         [0.3764706 , 0.5137255 , 0.18431373]],\n",
       "\n",
       "        [[0.08627451, 0.10980392, 0.05490196],\n",
       "         [0.07450981, 0.10196079, 0.03921569],\n",
       "         [0.08627451, 0.11372549, 0.04313726],\n",
       "         ...,\n",
       "         [0.34901962, 0.46666667, 0.14117648],\n",
       "         [0.37254903, 0.5058824 , 0.1764706 ],\n",
       "         [0.3764706 , 0.52156866, 0.1882353 ]]],\n",
       "\n",
       "\n",
       "       [[[0.56078434, 0.64705884, 0.28235295],\n",
       "         [0.5568628 , 0.6431373 , 0.28235295],\n",
       "         [0.54901963, 0.6431373 , 0.2784314 ],\n",
       "         ...,\n",
       "         [0.29803923, 0.43529412, 0.12156863],\n",
       "         [0.29803923, 0.43529412, 0.11372549],\n",
       "         [0.29803923, 0.43529412, 0.11372549]],\n",
       "\n",
       "        [[0.53333336, 0.6313726 , 0.27058825],\n",
       "         [0.5294118 , 0.627451  , 0.27058825],\n",
       "         [0.5254902 , 0.62352943, 0.27058825],\n",
       "         ...,\n",
       "         [0.30588236, 0.44313726, 0.12941177],\n",
       "         [0.30588236, 0.44313726, 0.12156863],\n",
       "         [0.30588236, 0.44313726, 0.12156863]],\n",
       "\n",
       "        [[0.49803922, 0.6039216 , 0.2627451 ],\n",
       "         [0.49411765, 0.6       , 0.25882354],\n",
       "         [0.49019608, 0.59607846, 0.2627451 ],\n",
       "         ...,\n",
       "         [0.30980393, 0.44705883, 0.13333334],\n",
       "         [0.30980393, 0.44705883, 0.12941177],\n",
       "         [0.30980393, 0.44705883, 0.1254902 ]],\n",
       "\n",
       "        ...,\n",
       "\n",
       "        [[0.2901961 , 0.42352942, 0.12156863],\n",
       "         [0.3019608 , 0.4392157 , 0.1254902 ],\n",
       "         [0.3254902 , 0.4627451 , 0.14509805],\n",
       "         ...,\n",
       "         [0.63529414, 0.7372549 , 0.3647059 ],\n",
       "         [0.61960787, 0.72156864, 0.34509805],\n",
       "         [0.6117647 , 0.7137255 , 0.33333334]],\n",
       "\n",
       "        [[0.29803923, 0.43137255, 0.1254902 ],\n",
       "         [0.30588236, 0.44313726, 0.13333334],\n",
       "         [0.32941177, 0.46666667, 0.14901961],\n",
       "         ...,\n",
       "         [0.68235296, 0.78039217, 0.40392157],\n",
       "         [0.6745098 , 0.7764706 , 0.38039216],\n",
       "         [0.67058825, 0.76862746, 0.3647059 ]],\n",
       "\n",
       "        [[0.29803923, 0.43137255, 0.12941177],\n",
       "         [0.30588236, 0.44313726, 0.13333334],\n",
       "         [0.32941177, 0.46666667, 0.15294118],\n",
       "         ...,\n",
       "         [0.73333335, 0.827451  , 0.44313726],\n",
       "         [0.73333335, 0.827451  , 0.42745098],\n",
       "         [0.7294118 , 0.8235294 , 0.4117647 ]]],\n",
       "\n",
       "\n",
       "       [[[0.42745098, 0.44705883, 0.27450982],\n",
       "         [0.42352942, 0.4392157 , 0.26666668],\n",
       "         [0.41960785, 0.43137255, 0.2627451 ],\n",
       "         ...,\n",
       "         [0.17254902, 0.19215687, 0.10196079],\n",
       "         [0.13725491, 0.16078432, 0.06666667],\n",
       "         [0.10196079, 0.12156863, 0.03137255]],\n",
       "\n",
       "        [[0.4117647 , 0.43529412, 0.2627451 ],\n",
       "         [0.41960785, 0.43529412, 0.26666668],\n",
       "         [0.42745098, 0.43529412, 0.26666668],\n",
       "         ...,\n",
       "         [0.23137255, 0.25490198, 0.15294118],\n",
       "         [0.1882353 , 0.21176471, 0.10980392],\n",
       "         [0.13725491, 0.16078432, 0.05490196]],\n",
       "\n",
       "        [[0.40392157, 0.43137255, 0.25882354],\n",
       "         [0.40784314, 0.43137255, 0.25882354],\n",
       "         [0.4117647 , 0.42745098, 0.25490198],\n",
       "         ...,\n",
       "         [0.3137255 , 0.34117648, 0.22352941],\n",
       "         [0.25882354, 0.28627452, 0.16862746],\n",
       "         [0.18431373, 0.20784314, 0.09019608]],\n",
       "\n",
       "        ...,\n",
       "\n",
       "        [[0.3137255 , 0.25490198, 0.14901961],\n",
       "         [0.36862746, 0.28235295, 0.2       ],\n",
       "         [0.54901963, 0.43137255, 0.37254903],\n",
       "         ...,\n",
       "         [0.36862746, 0.2627451 , 0.09411765],\n",
       "         [0.44705883, 0.34117648, 0.17254902],\n",
       "         [0.62352943, 0.5137255 , 0.35686275]],\n",
       "\n",
       "        [[0.2509804 , 0.19215687, 0.10196079],\n",
       "         [0.2509804 , 0.1764706 , 0.10196079],\n",
       "         [0.4745098 , 0.38039216, 0.32156864],\n",
       "         ...,\n",
       "         [0.41568628, 0.30588236, 0.14509805],\n",
       "         [0.3647059 , 0.25882354, 0.09803922],\n",
       "         [0.4745098 , 0.3647059 , 0.20392157]],\n",
       "\n",
       "        [[0.20784314, 0.14509805, 0.05882353],\n",
       "         [0.23529412, 0.16078432, 0.09411765],\n",
       "         [0.47058824, 0.38431373, 0.3254902 ],\n",
       "         ...,\n",
       "         [0.47843137, 0.36862746, 0.21176471],\n",
       "         [0.35686275, 0.24705882, 0.09019608],\n",
       "         [0.42352942, 0.3137255 , 0.15686275]]]], dtype=float32)"
      ]
     },
     "execution_count": 5,
     "metadata": {},
     "output_type": "execute_result"
    }
   ],
   "source": [
    "x"
   ]
  },
  {
   "cell_type": "code",
   "execution_count": 6,
   "metadata": {
    "colab": {
     "base_uri": "https://localhost:8080/"
    },
    "executionInfo": {
     "elapsed": 525,
     "status": "ok",
     "timestamp": 1676810542742,
     "user": {
      "displayName": "Boktiar Ahmed Bappy",
      "userId": "10381972055342951581"
     },
     "user_tz": -360
    },
    "id": "LsYceBRtXhvz",
    "outputId": "9c224630-e5c4-4781-d05e-657d6668036a"
   },
   "outputs": [
    {
     "data": {
      "text/plain": [
       "array([[0., 0., 0., ..., 0., 1., 0.],\n",
       "       [0., 0., 0., ..., 0., 0., 0.],\n",
       "       [0., 0., 0., ..., 0., 0., 0.],\n",
       "       ...,\n",
       "       [0., 0., 0., ..., 0., 0., 0.],\n",
       "       [0., 0., 0., ..., 0., 0., 0.],\n",
       "       [0., 0., 0., ..., 1., 0., 0.]])"
      ]
     },
     "execution_count": 6,
     "metadata": {},
     "output_type": "execute_result"
    }
   ],
   "source": [
    "y"
   ]
  },
  {
   "cell_type": "code",
   "execution_count": 7,
   "metadata": {
    "colab": {
     "base_uri": "https://localhost:8080/"
    },
    "executionInfo": {
     "elapsed": 5,
     "status": "ok",
     "timestamp": 1676810547449,
     "user": {
      "displayName": "Boktiar Ahmed Bappy",
      "userId": "10381972055342951581"
     },
     "user_tz": -360
    },
    "id": "0DDm8dyTXkRy",
    "outputId": "e1e638a6-1b68-454d-f0b5-ea263c6d0d1f"
   },
   "outputs": [
    {
     "data": {
      "text/plain": [
       "(1360, 224, 224, 3)"
      ]
     },
     "execution_count": 7,
     "metadata": {},
     "output_type": "execute_result"
    }
   ],
   "source": [
    "x.shape"
   ]
  },
  {
   "cell_type": "code",
   "execution_count": 8,
   "metadata": {
    "colab": {
     "base_uri": "https://localhost:8080/"
    },
    "executionInfo": {
     "elapsed": 521,
     "status": "ok",
     "timestamp": 1676810560826,
     "user": {
      "displayName": "Boktiar Ahmed Bappy",
      "userId": "10381972055342951581"
     },
     "user_tz": -360
    },
    "id": "IQbwOCsqXsw8",
    "outputId": "781a99f3-03f0-4c87-a1e5-c6ac988e0255"
   },
   "outputs": [
    {
     "data": {
      "text/plain": [
       "(1360, 17)"
      ]
     },
     "execution_count": 8,
     "metadata": {},
     "output_type": "execute_result"
    }
   ],
   "source": [
    "y.shape"
   ]
  },
  {
   "cell_type": "code",
   "execution_count": 9,
   "metadata": {
    "colab": {
     "base_uri": "https://localhost:8080/"
    },
    "executionInfo": {
     "elapsed": 1442,
     "status": "ok",
     "timestamp": 1676810635131,
     "user": {
      "displayName": "Boktiar Ahmed Bappy",
      "userId": "10381972055342951581"
     },
     "user_tz": -360
    },
    "id": "Eas7XYmzX4qB",
    "outputId": "022d2bdd-ef50-4844-e48d-0f62a8a0232e"
   },
   "outputs": [
    {
     "name": "stdout",
     "output_type": "stream",
     "text": [
      "WARNING:tensorflow:From /home/pradeep.k@zucisystems.com/workspace_working_Repo/ML/envname/lib/python3.8/site-packages/keras/layers/normalization/batch_normalization.py:514: _colocate_with (from tensorflow.python.framework.ops) is deprecated and will be removed in a future version.\n",
      "Instructions for updating:\n",
      "Colocations handled automatically by placer.\n",
      "Model: \"sequential\"\n",
      "_________________________________________________________________\n",
      " Layer (type)                Output Shape              Param #   \n",
      "=================================================================\n",
      " conv2d (Conv2D)             (None, 54, 54, 96)        34944     \n",
      "                                                                 \n",
      " activation (Activation)     (None, 54, 54, 96)        0         \n",
      "                                                                 \n",
      " max_pooling2d (MaxPooling2D  (None, 26, 26, 96)       0         \n",
      " )                                                               \n",
      "                                                                 \n",
      " batch_normalization (BatchN  (None, 26, 26, 96)       384       \n",
      " ormalization)                                                   \n",
      "                                                                 \n",
      " conv2d_1 (Conv2D)           (None, 26, 26, 256)       614656    \n",
      "                                                                 \n",
      " activation_1 (Activation)   (None, 26, 26, 256)       0         \n",
      "                                                                 \n",
      " max_pooling2d_1 (MaxPooling  (None, 12, 12, 256)      0         \n",
      " 2D)                                                             \n",
      "                                                                 \n",
      " batch_normalization_1 (Batc  (None, 12, 12, 256)      1024      \n",
      " hNormalization)                                                 \n",
      "                                                                 \n",
      " conv2d_2 (Conv2D)           (None, 10, 10, 384)       885120    \n",
      "                                                                 \n",
      " activation_2 (Activation)   (None, 10, 10, 384)       0         \n",
      "                                                                 \n",
      " batch_normalization_2 (Batc  (None, 10, 10, 384)      1536      \n",
      " hNormalization)                                                 \n",
      "                                                                 \n",
      " conv2d_3 (Conv2D)           (None, 8, 8, 384)         1327488   \n",
      "                                                                 \n",
      " activation_3 (Activation)   (None, 8, 8, 384)         0         \n",
      "                                                                 \n",
      " batch_normalization_3 (Batc  (None, 8, 8, 384)        1536      \n",
      " hNormalization)                                                 \n",
      "                                                                 \n",
      " conv2d_4 (Conv2D)           (None, 6, 6, 256)         884992    \n",
      "                                                                 \n",
      " activation_4 (Activation)   (None, 6, 6, 256)         0         \n",
      "                                                                 \n",
      " max_pooling2d_2 (MaxPooling  (None, 2, 2, 256)        0         \n",
      " 2D)                                                             \n",
      "                                                                 \n",
      " batch_normalization_4 (Batc  (None, 2, 2, 256)        1024      \n",
      " hNormalization)                                                 \n",
      "                                                                 \n",
      " flatten (Flatten)           (None, 1024)              0         \n",
      "                                                                 \n",
      " dense (Dense)               (None, 4096)              4198400   \n",
      "                                                                 \n",
      " activation_5 (Activation)   (None, 4096)              0         \n",
      "                                                                 \n",
      " dropout (Dropout)           (None, 4096)              0         \n",
      "                                                                 \n",
      " batch_normalization_5 (Batc  (None, 4096)             16384     \n",
      " hNormalization)                                                 \n",
      "                                                                 \n",
      " dense_1 (Dense)             (None, 4096)              16781312  \n",
      "                                                                 \n",
      " activation_6 (Activation)   (None, 4096)              0         \n",
      "                                                                 \n",
      " dropout_1 (Dropout)         (None, 4096)              0         \n",
      "                                                                 \n",
      " batch_normalization_6 (Batc  (None, 4096)             16384     \n",
      " hNormalization)                                                 \n",
      "                                                                 \n",
      " dense_2 (Dense)             (None, 17)                69649     \n",
      "                                                                 \n",
      " activation_7 (Activation)   (None, 17)                0         \n",
      "                                                                 \n",
      "=================================================================\n",
      "Total params: 24,834,833\n",
      "Trainable params: 24,815,697\n",
      "Non-trainable params: 19,136\n",
      "_________________________________________________________________\n"
     ]
    }
   ],
   "source": [
    "# Create a sequential model\n",
    "model = Sequential()\n",
    "\n",
    "# 1st Convolutional Layer\n",
    "model.add(Conv2D(filters=96, input_shape=(224,224,3), kernel_size=(11,11), strides=(4,4), padding='valid'))\n",
    "model.add(Activation('relu'))\n",
    "\n",
    "# Pooling \n",
    "model.add(MaxPooling2D(pool_size=(3,3), strides=(2,2), padding='valid'))\n",
    "# Batch Normalisation before passing it to the next layer\n",
    "model.add(BatchNormalization())\n",
    "\n",
    "# 2nd Convolutional Layer\n",
    "model.add(Conv2D(filters=256, kernel_size=(5,5), strides=(1,1), padding='same'))\n",
    "model.add(Activation('relu'))\n",
    "\n",
    "# Pooling\n",
    "model.add(MaxPooling2D(pool_size=(3,3), strides=(2,2), padding='valid'))\n",
    "# Batch Normalisation\n",
    "model.add(BatchNormalization())\n",
    "\n",
    "\n",
    "\n",
    "# 3rd Convolutional Layer\n",
    "model.add(Conv2D(filters=384, kernel_size=(3,3), strides=(1,1), padding='valid'))\n",
    "model.add(Activation('relu'))\n",
    "# Batch Normalisation\n",
    "model.add(BatchNormalization())\n",
    "\n",
    "# 4th Convolutional Layer\n",
    "model.add(Conv2D(filters=384, kernel_size=(3,3), strides=(1,1), padding='valid'))\n",
    "model.add(Activation('relu'))\n",
    "# Batch Normalisation\n",
    "model.add(BatchNormalization())\n",
    "\n",
    "\n",
    "# 5th Convolutional Layer\n",
    "model.add(Conv2D(filters=256, kernel_size=(3,3), strides=(1,1), padding='valid'))\n",
    "model.add(Activation('relu'))\n",
    "\n",
    "\n",
    "# Pooling\n",
    "model.add(MaxPooling2D(pool_size=(3,3), strides=(2,2), padding='valid'))\n",
    "# Batch Normalisation\n",
    "model.add(BatchNormalization())\n",
    "\n",
    "\n",
    "# Passing it to a dense layer\n",
    "model.add(Flatten())\n",
    "\n",
    "# 1st Dense Layer\n",
    "model.add(Dense(4096, input_shape=(224*224*3,)))\n",
    "model.add(Activation('relu'))\n",
    "# Add Dropout to prevent overfitting\n",
    "model.add(Dropout(0.4))\n",
    "# Batch Normalisation\n",
    "model.add(BatchNormalization())\n",
    "\n",
    "# 2nd Dense Layer\n",
    "model.add(Dense(4096))\n",
    "model.add(Activation('relu'))\n",
    "# Add Dropout\n",
    "model.add(Dropout(0.4))\n",
    "# Batch Normalisation\n",
    "model.add(BatchNormalization())\n",
    "\n",
    "# Output Layer\n",
    "model.add(Dense(17))\n",
    "model.add(Activation('softmax'))\n",
    "\n",
    "model.summary()"
   ]
  },
  {
   "cell_type": "code",
   "execution_count": 11,
   "metadata": {
    "colab": {
     "base_uri": "https://localhost:8080/"
    },
    "executionInfo": {
     "elapsed": 6268,
     "status": "ok",
     "timestamp": 1676810739451,
     "user": {
      "displayName": "Boktiar Ahmed Bappy",
      "userId": "10381972055342951581"
     },
     "user_tz": -360
    },
    "id": "XQqnIvuOtTmo",
    "outputId": "1a554ba7-731e-4092-eb04-f1d08b3c492a"
   },
   "outputs": [],
   "source": [
    "# !pip install tensorflow-addons==0.16.1"
   ]
  },
  {
   "cell_type": "code",
   "execution_count": 12,
   "metadata": {
    "colab": {
     "base_uri": "https://localhost:8080/",
     "height": 346
    },
    "executionInfo": {
     "elapsed": 8,
     "status": "error",
     "timestamp": 1676810747120,
     "user": {
      "displayName": "Boktiar Ahmed Bappy",
      "userId": "10381972055342951581"
     },
     "user_tz": -360
    },
    "id": "A9sMbiPZaOFU",
    "outputId": "a6764c3c-9c7d-4867-e12b-f3a0f6b751d8"
   },
   "outputs": [],
   "source": [
    "# Compile \n",
    "opt = tf.optimizers.Adam(learning_rate = 0.01)\n",
    "model.compile(loss='categorical_crossentropy', optimizer=opt, metrics=['accuracy'])"
   ]
  },
  {
   "cell_type": "code",
   "execution_count": 13,
   "metadata": {
    "colab": {
     "base_uri": "https://localhost:8080/"
    },
    "executionInfo": {
     "elapsed": 23150,
     "status": "ok",
     "timestamp": 1664608875933,
     "user": {
      "displayName": "Boktiar Ahmed Bappy",
      "userId": "10381972055342951581"
     },
     "user_tz": -360
    },
    "id": "2rgod3O1ap1C",
    "outputId": "30e903cf-0297-475b-e9b5-24a32f9ab38a"
   },
   "outputs": [
    {
     "name": "stdout",
     "output_type": "stream",
     "text": [
      "Train on 1088 samples, validate on 272 samples\n"
     ]
    },
    {
     "name": "stderr",
     "output_type": "stream",
     "text": [
      "2023-12-22 13:11:28.119332: W tensorflow/stream_executor/platform/default/dso_loader.cc:64] Could not load dynamic library 'libcuda.so.1'; dlerror: libcuda.so.1: cannot open shared object file: No such file or directory\n",
      "2023-12-22 13:11:28.119353: W tensorflow/stream_executor/cuda/cuda_driver.cc:269] failed call to cuInit: UNKNOWN ERROR (303)\n",
      "2023-12-22 13:11:28.119370: I tensorflow/stream_executor/cuda/cuda_diagnostics.cc:156] kernel driver does not appear to be running on this host (ZSCHN01LP0253L): /proc/driver/nvidia/version does not exist\n",
      "2023-12-22 13:11:28.120491: I tensorflow/core/platform/cpu_feature_guard.cc:193] This TensorFlow binary is optimized with oneAPI Deep Neural Network Library (oneDNN) to use the following CPU instructions in performance-critical operations:  AVX2 AVX512F AVX512_VNNI FMA\n",
      "To enable them in other operations, rebuild TensorFlow with the appropriate compiler flags.\n",
      "2023-12-22 13:11:28.156496: I tensorflow/compiler/mlir/mlir_graph_optimization_pass.cc:354] MLIR V1 optimization pass is not enabled\n"
     ]
    },
    {
     "name": "stdout",
     "output_type": "stream",
     "text": [
      "Epoch 1/5\n",
      "1088/1088 [==============================] - ETA: 0s - loss: 9.1978 - acc: 0.1351"
     ]
    },
    {
     "name": "stderr",
     "output_type": "stream",
     "text": [
      "/home/pradeep.k@zucisystems.com/workspace_working_Repo/ML/envname/lib/python3.8/site-packages/keras/engine/training_v1.py:2045: UserWarning: `Model.state_updates` will be removed in a future version. This property should not be used in TensorFlow 2.0, as `updates` are applied automatically.\n",
      "  updates = self.state_updates\n"
     ]
    },
    {
     "name": "stdout",
     "output_type": "stream",
     "text": [
      "1088/1088 [==============================] - 23s 21ms/sample - loss: 9.1978 - acc: 0.1351 - val_loss: 200815.8585 - val_acc: 0.0478\n",
      "Epoch 2/5\n",
      "1088/1088 [==============================] - 21s 19ms/sample - loss: 6.2788 - acc: 0.2105 - val_loss: 8530.4275 - val_acc: 0.0846\n",
      "Epoch 3/5\n",
      "1088/1088 [==============================] - 23s 21ms/sample - loss: 5.2284 - acc: 0.2472 - val_loss: 1257.9321 - val_acc: 0.0882\n",
      "Epoch 4/5\n",
      "1088/1088 [==============================] - 23s 21ms/sample - loss: 4.7739 - acc: 0.2776 - val_loss: 596.3220 - val_acc: 0.0404\n",
      "Epoch 5/5\n",
      "1088/1088 [==============================] - 23s 21ms/sample - loss: 3.6682 - acc: 0.3272 - val_loss: 113.4686 - val_acc: 0.0919\n"
     ]
    },
    {
     "data": {
      "text/plain": [
       "<keras.callbacks.History at 0x7f491c904460>"
      ]
     },
     "execution_count": 13,
     "metadata": {},
     "output_type": "execute_result"
    }
   ],
   "source": [
    "# Train\n",
    "model.fit(x, y, batch_size=64, epochs=5, verbose=1,validation_split=0.2, shuffle=True)"
   ]
  },
  {
   "cell_type": "code",
   "execution_count": null,
   "metadata": {
    "id": "sK7qEdLia0-M"
   },
   "outputs": [],
   "source": []
  }
 ],
 "metadata": {
  "accelerator": "GPU",
  "colab": {
   "authorship_tag": "ABX9TyMXegtwqtEfli5VcHQAkUiL",
   "provenance": []
  },
  "kernelspec": {
   "display_name": "Python 3 (ipykernel)",
   "language": "python",
   "name": "python3"
  },
  "language_info": {
   "codemirror_mode": {
    "name": "ipython",
    "version": 3
   },
   "file_extension": ".py",
   "mimetype": "text/x-python",
   "name": "python",
   "nbconvert_exporter": "python",
   "pygments_lexer": "ipython3",
   "version": "3.8.10"
  }
 },
 "nbformat": 4,
 "nbformat_minor": 1
}
