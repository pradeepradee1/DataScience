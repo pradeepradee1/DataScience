{
 "cells": [
  {
   "cell_type": "code",
   "execution_count": 1,
   "id": "790f3df3",
   "metadata": {},
   "outputs": [],
   "source": [
    "from sklearn.linear_model import LogisticRegression\n",
    "from sklearn.svm import SVC\n",
    "from sklearn.ensemble import RandomForestClassifier\n",
    "import numpy as np\n",
    "from sklearn.datasets import load_digits\n",
    "import matplotlib.pyplot as plt\n",
    "digits = load_digits()\n",
    "from sklearn.model_selection import train_test_split"
   ]
  },
  {
   "cell_type": "markdown",
   "id": "86cd1d7d",
   "metadata": {},
   "source": [
    "### Cross-Validation\n",
    "### It is a technique used to assess how well our Machine learning models perform on unseen data \n",
    "### We can get Generalized model (Low Bias and Low Variance)"
   ]
  },
  {
   "cell_type": "code",
   "execution_count": 2,
   "id": "7df37fa1",
   "metadata": {},
   "outputs": [],
   "source": [
    "X_train, X_test, y_train, y_test = train_test_split(digits.data,digits.target,test_size=0.3)"
   ]
  },
  {
   "cell_type": "code",
   "execution_count": 3,
   "id": "44b4d5c6",
   "metadata": {},
   "outputs": [
    {
     "data": {
      "text/plain": [
       "0.9722222222222222"
      ]
     },
     "execution_count": 3,
     "metadata": {},
     "output_type": "execute_result"
    }
   ],
   "source": [
    "lr = LogisticRegression(solver='liblinear',multi_class='ovr')\n",
    "lr.fit(X_train, y_train)\n",
    "lr.score(X_test, y_test)"
   ]
  },
  {
   "cell_type": "code",
   "execution_count": 4,
   "id": "a39cd608",
   "metadata": {},
   "outputs": [
    {
     "data": {
      "text/plain": [
       "0.32592592592592595"
      ]
     },
     "execution_count": 4,
     "metadata": {},
     "output_type": "execute_result"
    }
   ],
   "source": [
    "svm = SVC(gamma='auto')\n",
    "svm.fit(X_train, y_train)\n",
    "svm.score(X_test, y_test)"
   ]
  },
  {
   "cell_type": "code",
   "execution_count": 5,
   "id": "22e25a8c",
   "metadata": {},
   "outputs": [
    {
     "data": {
      "text/plain": [
       "0.9833333333333333"
      ]
     },
     "execution_count": 5,
     "metadata": {},
     "output_type": "execute_result"
    }
   ],
   "source": [
    "rf = RandomForestClassifier(n_estimators=40)\n",
    "rf.fit(X_train, y_train)\n",
    "rf.score(X_test, y_test)"
   ]
  },
  {
   "cell_type": "markdown",
   "id": "e4b977f7",
   "metadata": {},
   "source": [
    "### CV"
   ]
  },
  {
   "cell_type": "code",
   "execution_count": 7,
   "id": "bf619d6c",
   "metadata": {},
   "outputs": [
    {
     "name": "stdout",
     "output_type": "stream",
     "text": [
      "[0.89482471 0.95325543 0.90984975]\n",
      "Avg : 0.9193099610461881\n"
     ]
    }
   ],
   "source": [
    "from sklearn.model_selection import cross_val_score\n",
    "score_lr=cross_val_score(LogisticRegression(solver='liblinear',multi_class='ovr'), digits.data, digits.target,cv=3)\n",
    "print(score_lr)\n",
    "print(\"Avg :\",np.average(score_lr))"
   ]
  },
  {
   "cell_type": "code",
   "execution_count": 10,
   "id": "c69062ef",
   "metadata": {},
   "outputs": [
    {
     "name": "stdout",
     "output_type": "stream",
     "text": [
      "[0.38063439 0.41068447 0.51252087]\n",
      "Avg : 0.4346132442960489\n"
     ]
    }
   ],
   "source": [
    "score_svm =cross_val_score(SVC(gamma='auto'), digits.data, digits.target,cv=3)\n",
    "print(score_svm)\n",
    "print('Avg :',np.average(score_svm))"
   ]
  },
  {
   "cell_type": "code",
   "execution_count": 12,
   "id": "1efa5371",
   "metadata": {},
   "outputs": [
    {
     "name": "stdout",
     "output_type": "stream",
     "text": [
      "[0.92654424 0.92988314 0.92821369]\n",
      "Avg : 0.9282136894824707\n"
     ]
    }
   ],
   "source": [
    "score_rf=cross_val_score(RandomForestClassifier(n_estimators=40),digits.data, digits.target,cv=3)\n",
    "print(score_rf)\n",
    "print('Avg :',np.average(score_rf))"
   ]
  },
  {
   "cell_type": "markdown",
   "id": "3cf51063",
   "metadata": {},
   "source": [
    "### Before K Fold apply\tAfter K Fold applied (Avg)\n",
    "### Logistic Regression\t97%\t91%\n",
    "### SVM\t32%\t43% \n",
    "### Random Forest\t98%\t92%"
   ]
  },
  {
   "cell_type": "markdown",
   "id": "c7a29c11",
   "metadata": {},
   "source": [
    "#### Based on the above table, we will go with Random Forest for this dataset for production. But we have to monitor the model performance based on the data drift and as the business case changes, we have to revisit the model and redeploy."
   ]
  },
  {
   "cell_type": "code",
   "execution_count": null,
   "id": "e5c6f318",
   "metadata": {},
   "outputs": [],
   "source": []
  }
 ],
 "metadata": {
  "kernelspec": {
   "display_name": "Python 3 (ipykernel)",
   "language": "python",
   "name": "python3"
  },
  "language_info": {
   "codemirror_mode": {
    "name": "ipython",
    "version": 3
   },
   "file_extension": ".py",
   "mimetype": "text/x-python",
   "name": "python",
   "nbconvert_exporter": "python",
   "pygments_lexer": "ipython3",
   "version": "3.8.10"
  }
 },
 "nbformat": 4,
 "nbformat_minor": 5
}
