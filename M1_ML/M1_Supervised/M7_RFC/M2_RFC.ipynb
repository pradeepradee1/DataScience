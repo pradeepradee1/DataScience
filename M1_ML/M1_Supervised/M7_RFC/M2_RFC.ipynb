{
 "cells": [
  {
   "cell_type": "markdown",
   "id": "ed1e3a0c",
   "metadata": {},
   "source": [
    "### RF:\n",
    "#### RF is supervised and ensemble machine learning algorithm for classificaion and regression that follows the bagging techniques\n",
    "#### Multiple samples will feed to multiple Decision tree algorithm and output will based on the  majority voting\n",
    "#### It is working on parallel method"
   ]
  }
 ],
 "metadata": {
  "kernelspec": {
   "display_name": "Python 3 (ipykernel)",
   "language": "python",
   "name": "python3"
  },
  "language_info": {
   "codemirror_mode": {
    "name": "ipython",
    "version": 3
   },
   "file_extension": ".py",
   "mimetype": "text/x-python",
   "name": "python",
   "nbconvert_exporter": "python",
   "pygments_lexer": "ipython3",
   "version": "3.8.10"
  }
 },
 "nbformat": 4,
 "nbformat_minor": 5
}
