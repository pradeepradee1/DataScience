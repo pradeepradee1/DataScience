{
 "cells": [
  {
   "cell_type": "markdown",
   "id": "f16c5319",
   "metadata": {},
   "source": [
    "### Ensemble Technique :\n",
    "#### We can apply for classification and regression techniques\n",
    "#### Combine multiple models to improve the accuracy of results\n",
    "### Why we going for Ensemble Technique ?\n",
    "#### It will reduce bias and variance to get the generalized model\n",
    "#### 1) Bagging :\n",
    "#### It is working on parallel method\n",
    "#### Multiple samples will feed to multiple algorithm and output will based on the  majority voting\n",
    "#### Ex : RFC or RFR\n",
    "#### 2) Boosting\n",
    "#### It is working on sequential method \n",
    "#### The association of weak learners will be converted into strong learners\n",
    "#### Ex : Ada Boost , Cat Boost , Gradient Boost , XG Boost"
   ]
  },
  {
   "cell_type": "code",
   "execution_count": null,
   "id": "4b35174f",
   "metadata": {},
   "outputs": [],
   "source": []
  }
 ],
 "metadata": {
  "kernelspec": {
   "display_name": "Python 3 (ipykernel)",
   "language": "python",
   "name": "python3"
  },
  "language_info": {
   "codemirror_mode": {
    "name": "ipython",
    "version": 3
   },
   "file_extension": ".py",
   "mimetype": "text/x-python",
   "name": "python",
   "nbconvert_exporter": "python",
   "pygments_lexer": "ipython3",
   "version": "3.8.10"
  }
 },
 "nbformat": 4,
 "nbformat_minor": 5
}
