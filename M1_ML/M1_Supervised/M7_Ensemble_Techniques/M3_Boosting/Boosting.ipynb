{
 "cells": [
  {
   "cell_type": "markdown",
   "id": "28c62d03",
   "metadata": {},
   "source": [
    "### AdaBoost :\n",
    "#### In the Adaptive boosting,focusing on giving more weightage to the misclassification instances in the sequences model\n",
    "#### we use decision stumps (depth = 1)\n",
    "#### It is less efficiency in handling the large data sets"
   ]
  },
  {
   "cell_type": "code",
   "execution_count": null,
   "id": "4e63ceb6",
   "metadata": {},
   "outputs": [],
   "source": []
  },
  {
   "cell_type": "markdown",
   "id": "9e319085",
   "metadata": {},
   "source": [
    "### Gradient Boosting:\n",
    "#### In the Gradient boosting, focusing on calculating the resiudal to get the minimize loss\n",
    "#### we use decision tree and gradient descent for updating the parameters\n",
    "#### It is less efficiency in handling large datasets"
   ]
  },
  {
   "cell_type": "code",
   "execution_count": null,
   "id": "5b8504c0",
   "metadata": {},
   "outputs": [],
   "source": []
  },
  {
   "cell_type": "markdown",
   "id": "b1ab636e",
   "metadata": {},
   "source": [
    "### XGBoost:\n",
    "#### XGBoost is an optimized implementation of gradient boosting, focusing on speed and performance\n",
    "#### Optimization techniques are regularzation, parallel processing and handling missing data \n",
    "#### It is excellent in handling the large datasets"
   ]
  },
  {
   "cell_type": "code",
   "execution_count": null,
   "id": "7d85e0cd",
   "metadata": {},
   "outputs": [],
   "source": []
  }
 ],
 "metadata": {
  "kernelspec": {
   "display_name": "Python 3 (ipykernel)",
   "language": "python",
   "name": "python3"
  },
  "language_info": {
   "codemirror_mode": {
    "name": "ipython",
    "version": 3
   },
   "file_extension": ".py",
   "mimetype": "text/x-python",
   "name": "python",
   "nbconvert_exporter": "python",
   "pygments_lexer": "ipython3",
   "version": "3.8.10"
  }
 },
 "nbformat": 4,
 "nbformat_minor": 5
}
