{
 "cells": [
  {
   "cell_type": "markdown",
   "id": "47004c79",
   "metadata": {},
   "source": [
    "### SVM "
   ]
  },
  {
   "cell_type": "markdown",
   "id": "8492f9d8",
   "metadata": {},
   "source": [
    "#### It is Classification and Regression algorithm \n",
    "#### We need to find the optimal hyperplane \n",
    "#### Two marginal plane will be created and parallel to the hyperplane\n",
    "#### The distance from marginal 1 to marginal 2 should be maximum which is know as hard marginal plane"
   ]
  },
  {
   "cell_type": "markdown",
   "id": "537d7154",
   "metadata": {},
   "source": [
    "## cost functions\n",
    "#### Hinge loss is the cost functions for this algorithms"
   ]
  },
  {
   "cell_type": "code",
   "execution_count": null,
   "id": "831528f2",
   "metadata": {},
   "outputs": [],
   "source": []
  }
 ],
 "metadata": {
  "kernelspec": {
   "display_name": "Python 3 (ipykernel)",
   "language": "python",
   "name": "python3"
  },
  "language_info": {
   "codemirror_mode": {
    "name": "ipython",
    "version": 3
   },
   "file_extension": ".py",
   "mimetype": "text/x-python",
   "name": "python",
   "nbconvert_exporter": "python",
   "pygments_lexer": "ipython3",
   "version": "3.8.10"
  }
 },
 "nbformat": 4,
 "nbformat_minor": 5
}
