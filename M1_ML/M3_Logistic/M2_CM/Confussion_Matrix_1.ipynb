{
 "cells": [
  {
   "cell_type": "code",
   "execution_count": 1,
   "id": "65532259",
   "metadata": {},
   "outputs": [],
   "source": [
    "from matplotlib import pyplot as plt\n",
    "from sklearn.metrics import confusion_matrix , classification_report\n",
    "import pandas as pd\n",
    "import seaborn as sns"
   ]
  },
  {
   "cell_type": "code",
   "execution_count": 2,
   "id": "5f34255d",
   "metadata": {},
   "outputs": [],
   "source": [
    "a=[\"Dog\",\"Dog\",\"Dog\",\"Dog\",\"NotDog\",\"NotDog\",\"Dog\",\"NotDog\",\"NotDog\",\"NotDog\"]\n",
    "p=[\"Dog\",\"Dog\",\"Dog\",\"Dog\",\"Dog\",\"Dog\",\"NotDog\",\"NotDog\",\"NotDog\",\"NotDog\"]"
   ]
  },
  {
   "cell_type": "markdown",
   "id": "c6f4c98a",
   "metadata": {},
   "source": [
    "#### Before determine the X-axis and Y-axis Vectors "
   ]
  },
  {
   "cell_type": "code",
   "execution_count": 4,
   "id": "eae87dce",
   "metadata": {},
   "outputs": [
    {
     "data": {
      "text/plain": [
       "array([[4, 1],\n",
       "       [2, 3]])"
      ]
     },
     "execution_count": 4,
     "metadata": {},
     "output_type": "execute_result"
    }
   ],
   "source": [
    "cm = confusion_matrix(a,p)\n",
    "cm"
   ]
  },
  {
   "cell_type": "code",
   "execution_count": 5,
   "id": "c378da84",
   "metadata": {},
   "outputs": [],
   "source": [
    "TP=4\n",
    "FP=2\n",
    "TN=3\n",
    "FN=1"
   ]
  },
  {
   "cell_type": "code",
   "execution_count": 6,
   "id": "2a3a8c18",
   "metadata": {},
   "outputs": [
    {
     "data": {
      "text/html": [
       "<div>\n",
       "<style scoped>\n",
       "    .dataframe tbody tr th:only-of-type {\n",
       "        vertical-align: middle;\n",
       "    }\n",
       "\n",
       "    .dataframe tbody tr th {\n",
       "        vertical-align: top;\n",
       "    }\n",
       "\n",
       "    .dataframe thead th {\n",
       "        text-align: right;\n",
       "    }\n",
       "</style>\n",
       "<table border=\"1\" class=\"dataframe\">\n",
       "  <thead>\n",
       "    <tr style=\"text-align: right;\">\n",
       "      <th></th>\n",
       "      <th>Dog</th>\n",
       "      <th>Not a dog</th>\n",
       "    </tr>\n",
       "  </thead>\n",
       "  <tbody>\n",
       "    <tr>\n",
       "      <th>Dog</th>\n",
       "      <td>4</td>\n",
       "      <td>1</td>\n",
       "    </tr>\n",
       "    <tr>\n",
       "      <th>Not a dog</th>\n",
       "      <td>2</td>\n",
       "      <td>3</td>\n",
       "    </tr>\n",
       "  </tbody>\n",
       "</table>\n",
       "</div>"
      ],
      "text/plain": [
       "           Dog  Not a dog\n",
       "Dog          4          1\n",
       "Not a dog    2          3"
      ]
     },
     "execution_count": 6,
     "metadata": {},
     "output_type": "execute_result"
    }
   ],
   "source": [
    "class_names=[\"Dog\",\"Not a dog\"]\n",
    "df_cm = pd.DataFrame(cm, index=class_names, columns=class_names,)\n",
    "df_cm"
   ]
  },
  {
   "cell_type": "code",
   "execution_count": 7,
   "id": "de45011f",
   "metadata": {},
   "outputs": [
    {
     "data": {
      "text/plain": [
       "Text(0.5, 47.7222222222222, 'Prediction')"
      ]
     },
     "execution_count": 7,
     "metadata": {},
     "output_type": "execute_result"
    },
    {
     "data": {
      "image/png": "[encoded data removed]",
      "text/plain": [
       "<Figure size 1000x700 with 2 Axes>"
      ]
     },
     "metadata": {},
     "output_type": "display_data"
    }
   ],
   "source": [
    "fig = plt.figure(figsize=(10,7))\n",
    "heatmap = sns.heatmap(df_cm, annot=True, fmt=\"d\")\n",
    "heatmap.yaxis.set_ticklabels(heatmap.yaxis.get_ticklabels(), rotation=0, ha='right', fontsize=14)\n",
    "heatmap.xaxis.set_ticklabels(heatmap.xaxis.get_ticklabels(), rotation=45, ha='right', fontsize=14)\n",
    "plt.ylabel('Actual')\n",
    "plt.xlabel('Prediction')"
   ]
  },
  {
   "cell_type": "code",
   "execution_count": null,
   "id": "383fcf28",
   "metadata": {},
   "outputs": [],
   "source": []
  },
  {
   "cell_type": "markdown",
   "id": "41c465f0",
   "metadata": {},
   "source": [
    "# Precision"
   ]
  },
  {
   "cell_type": "markdown",
   "id": "560d20ac",
   "metadata": {},
   "source": [
    "## Precision is out of all dog  predictions how many we got it right\n",
    "## Reduce the FP , Should focous on precision"
   ]
  },
  {
   "cell_type": "code",
   "execution_count": null,
   "id": "395cdd01",
   "metadata": {},
   "outputs": [],
   "source": []
  },
  {
   "cell_type": "markdown",
   "id": "41f2ce29",
   "metadata": {},
   "source": [
    "# Recall"
   ]
  },
  {
   "cell_type": "markdown",
   "id": "a4a054f0",
   "metadata": {},
   "source": [
    "## Recall is out of dog actual how many we got it right\n",
    "## Reduce the FN , Should focus on Recall"
   ]
  },
  {
   "cell_type": "code",
   "execution_count": null,
   "id": "4dbb730e",
   "metadata": {},
   "outputs": [],
   "source": []
  },
  {
   "cell_type": "markdown",
   "id": "bac0eaf9",
   "metadata": {},
   "source": [
    "## F1\n",
    "## Want to reduce the FP and FN , Should focus on F1 Score"
   ]
  },
  {
   "cell_type": "code",
   "execution_count": null,
   "id": "e92296d4",
   "metadata": {},
   "outputs": [],
   "source": []
  },
  {
   "cell_type": "markdown",
   "id": "026588b1",
   "metadata": {},
   "source": [
    "# Note : \n",
    "## Precision think about prediction as your  base \n",
    "## recall Think about actual as your base"
   ]
  },
  {
   "cell_type": "code",
   "execution_count": 9,
   "id": "b2a92737",
   "metadata": {},
   "outputs": [
    {
     "name": "stdout",
     "output_type": "stream",
     "text": [
      "              precision    recall  f1-score   support\n",
      "\n",
      "         Dog       0.67      0.80      0.73         5\n",
      "      NotDog       0.75      0.60      0.67         5\n",
      "\n",
      "    accuracy                           0.70        10\n",
      "   macro avg       0.71      0.70      0.70        10\n",
      "weighted avg       0.71      0.70      0.70        10\n",
      "\n"
     ]
    }
   ],
   "source": [
    "print(classification_report(a,p))"
   ]
  },
  {
   "cell_type": "code",
   "execution_count": null,
   "id": "022a2548",
   "metadata": {},
   "outputs": [],
   "source": []
  },
  {
   "cell_type": "code",
   "execution_count": null,
   "id": "c40a1766",
   "metadata": {},
   "outputs": [],
   "source": []
  },
  {
   "cell_type": "code",
   "execution_count": null,
   "id": "25385201",
   "metadata": {},
   "outputs": [],
   "source": []
  }
 ],
 "metadata": {
  "kernelspec": {
   "display_name": "Python 3 (ipykernel)",
   "language": "python",
   "name": "python3"
  },
  "language_info": {
   "codemirror_mode": {
    "name": "ipython",
    "version": 3
   },
   "file_extension": ".py",
   "mimetype": "text/x-python",
   "name": "python",
   "nbconvert_exporter": "python",
   "pygments_lexer": "ipython3",
   "version": "3.8.10"
  }
 },
 "nbformat": 4,
 "nbformat_minor": 5
}
