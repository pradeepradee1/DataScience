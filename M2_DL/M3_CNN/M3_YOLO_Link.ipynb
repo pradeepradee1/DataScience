{
 "cells": [
  {
   "cell_type": "markdown",
   "id": "fb050b0f",
   "metadata": {},
   "source": [
    "# YOLO PPT Link  "
   ]
  },
  {
   "cell_type": "markdown",
   "id": "dcef48ee",
   "metadata": {},
   "source": [
    "### https://docs.google.com/presentation/d/e/2PACX-1vR5Ja8JEyIheOTY-EpBg5BKiDYFw6BpfKlgrj2yxKgZX1EIbO_3RGlyHn9Y8ohSLdw9VJgEEi3iJIV3/pub?start=true&loop=true&delayms=60000&slide=id.p"
   ]
  },
  {
   "cell_type": "code",
   "execution_count": null,
   "id": "354a89ad",
   "metadata": {},
   "outputs": [],
   "source": []
  }
 ],
 "metadata": {
  "kernelspec": {
   "display_name": "Python 3 (ipykernel)",
   "language": "python",
   "name": "python3"
  },
  "language_info": {
   "codemirror_mode": {
    "name": "ipython",
    "version": 3
   },
   "file_extension": ".py",
   "mimetype": "text/x-python",
   "name": "python",
   "nbconvert_exporter": "python",
   "pygments_lexer": "ipython3",
   "version": "3.8.10"
  }
 },
 "nbformat": 4,
 "nbformat_minor": 5
}
