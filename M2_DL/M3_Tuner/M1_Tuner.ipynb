{
 "cells": [
  {
   "cell_type": "markdown",
   "id": "7b45fd53",
   "metadata": {},
   "source": [
    "### Try this colab link for Tuner"
   ]
  },
  {
   "cell_type": "markdown",
   "id": "ef143f36",
   "metadata": {},
   "source": [
    "#### https://colab.research.google.com/drive/17gIqEQl2-CokS8sGJpXC0jkBzv_ZUOyf#scrollTo=EQRpPHZsz-eC "
   ]
  },
  {
   "cell_type": "markdown",
   "id": "c4f763b6",
   "metadata": {},
   "source": [
    "### Try in colab not in local"
   ]
  },
  {
   "cell_type": "code",
   "execution_count": null,
   "id": "c4a868dc",
   "metadata": {},
   "outputs": [],
   "source": []
  }
 ],
 "metadata": {
  "kernelspec": {
   "display_name": "Python 3 (ipykernel)",
   "language": "python",
   "name": "python3"
  },
  "language_info": {
   "codemirror_mode": {
    "name": "ipython",
    "version": 3
   },
   "file_extension": ".py",
   "mimetype": "text/x-python",
   "name": "python",
   "nbconvert_exporter": "python",
   "pygments_lexer": "ipython3",
   "version": "3.8.10"
  }
 },
 "nbformat": 4,
 "nbformat_minor": 5
}
