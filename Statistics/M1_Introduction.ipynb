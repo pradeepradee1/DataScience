{
 "cells": [
  {
   "cell_type": "markdown",
   "id": "28e840d8",
   "metadata": {},
   "source": [
    "### Statistics :"
   ]
  },
  {
   "cell_type": "markdown",
   "id": "62d13864",
   "metadata": {},
   "source": [
    "#### Statistics is the science of collecting , organizing and analyzing the data"
   ]
  },
  {
   "cell_type": "markdown",
   "id": "75414179",
   "metadata": {},
   "source": [
    "#### Data : Data is collection of informations in the form of table with relation"
   ]
  },
  {
   "cell_type": "markdown",
   "id": "00a9804f",
   "metadata": {},
   "source": [
    "### Types Of Statistics"
   ]
  },
  {
   "cell_type": "markdown",
   "id": "90768152",
   "metadata": {},
   "source": [
    "### 1) Descriptive \n",
    "### 2) Inferential"
   ]
  },
  {
   "cell_type": "code",
   "execution_count": null,
   "id": "379b4fa1",
   "metadata": {},
   "outputs": [],
   "source": []
  }
 ],
 "metadata": {
  "kernelspec": {
   "display_name": "Python 3 (ipykernel)",
   "language": "python",
   "name": "python3"
  },
  "language_info": {
   "codemirror_mode": {
    "name": "ipython",
    "version": 3
   },
   "file_extension": ".py",
   "mimetype": "text/x-python",
   "name": "python",
   "nbconvert_exporter": "python",
   "pygments_lexer": "ipython3",
   "version": "3.8.10"
  }
 },
 "nbformat": 4,
 "nbformat_minor": 5
}
