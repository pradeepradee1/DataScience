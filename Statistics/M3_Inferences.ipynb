{
 "cells": [
  {
   "cell_type": "markdown",
   "id": "d990f0fd",
   "metadata": {},
   "source": [
    "### Inferences : It helps study a sample of data and make conclusions about its population."
   ]
  },
  {
   "cell_type": "markdown",
   "id": "f2c3019f",
   "metadata": {},
   "source": [
    "### Categories :\n",
    "#### 1) Hypothesis tesing\n",
    "#### 2) p-value\n",
    "#### 3) confindence interval\n",
    "#### 4) chi-square\n",
    "#### 5) Z test\n",
    "#### 6) t test\n",
    "#### 7) f test\n",
    "#### 8) ANOVA"
   ]
  },
  {
   "cell_type": "code",
   "execution_count": null,
   "id": "9bfa312e",
   "metadata": {},
   "outputs": [],
   "source": []
  }
 ],
 "metadata": {
  "kernelspec": {
   "display_name": "Python 3 (ipykernel)",
   "language": "python",
   "name": "python3"
  },
  "language_info": {
   "codemirror_mode": {
    "name": "ipython",
    "version": 3
   },
   "file_extension": ".py",
   "mimetype": "text/x-python",
   "name": "python",
   "nbconvert_exporter": "python",
   "pygments_lexer": "ipython3",
   "version": "3.8.10"
  }
 },
 "nbformat": 4,
 "nbformat_minor": 5
}
