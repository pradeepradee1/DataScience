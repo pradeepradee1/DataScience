{
 "cells": [
  {
   "cell_type": "markdown",
   "id": "d990f0fd",
   "metadata": {},
   "source": [
    "### Inferences : It helps study a sample of data and make conclusions about its population."
   ]
  },
  {
   "cell_type": "markdown",
   "id": "f2c3019f",
   "metadata": {},
   "source": [
    "### Categories :\n",
    "#### 1) Hypothesis tesing\n",
    "#### 2) P-value\n",
    "#### 3) confindence interval\n",
    "#### 4) chi-square\n",
    "#### 5) Z test\n",
    "#### 6) t test\n",
    "#### 7) f test"
   ]
  },
  {
   "cell_type": "markdown",
   "id": "40ee64c7",
   "metadata": {},
   "source": [
    "### 1) Hypothesis testing \n",
    "#### It is Statistical test and Evaluate two mutal exclusive statement on population using sample data\n",
    "#### H0 is called as the Null Hypothesis\n",
    "#### H1 is called as the Alternate Hypothesis\n",
    "#### Note : we can use more than two (ANOVA)"
   ]
  },
  {
   "cell_type": "markdown",
   "id": "2b533f38",
   "metadata": {},
   "source": [
    "### 2) P-value\n",
    "#### It is statistical measure used to determine the likelihood that an observed outcome is the result of chance"
   ]
  },
  {
   "cell_type": "markdown",
   "id": "f7ed5f7e",
   "metadata": {},
   "source": [
    "### 3) Chi-Test\n",
    "#### The chi-square test is a statistical test used to determine if there is a significant association between two categorical variables."
   ]
  },
  {
   "cell_type": "markdown",
   "id": "ef27d4a9",
   "metadata": {},
   "source": [
    "### 4) Z-Test:\n",
    "#### A z-test is a statistical test used to determine whether two population means are different when the variances are known and the sample size is large (should be >= 30)."
   ]
  },
  {
   "cell_type": "markdown",
   "id": "07c6e5ec",
   "metadata": {},
   "source": [
    "### 5) T-Test:\n",
    "#### A z-test is a statistical test used to determine whether two population means are different when the variances are known and the sample size is large (should be >= 30)."
   ]
  },
  {
   "cell_type": "markdown",
   "id": "9a1333f3",
   "metadata": {},
   "source": [
    "### 6) ANOVA Test:\n",
    "#### ANOVA stands for Analysis of Variance. It is a statistical method used to analyze the differences between the means of two or more groups or treatments. It is often used to determine whether there are any statistically significant differences between the means of different groups"
   ]
  },
  {
   "cell_type": "code",
   "execution_count": null,
   "id": "c90458f8",
   "metadata": {},
   "outputs": [],
   "source": []
  }
 ],
 "metadata": {
  "kernelspec": {
   "display_name": "Python 3 (ipykernel)",
   "language": "python",
   "name": "python3"
  },
  "language_info": {
   "codemirror_mode": {
    "name": "ipython",
    "version": 3
   },
   "file_extension": ".py",
   "mimetype": "text/x-python",
   "name": "python",
   "nbconvert_exporter": "python",
   "pygments_lexer": "ipython3",
   "version": "3.8.10"
  }
 },
 "nbformat": 4,
 "nbformat_minor": 5
}
