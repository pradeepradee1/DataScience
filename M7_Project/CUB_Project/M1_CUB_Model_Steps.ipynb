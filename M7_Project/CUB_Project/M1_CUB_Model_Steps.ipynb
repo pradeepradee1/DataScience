{
 "cells": [
  {
   "cell_type": "markdown",
   "id": "35588c0c",
   "metadata": {},
   "source": [
    "### CUB "
   ]
  },
  {
   "cell_type": "markdown",
   "id": "86178b15",
   "metadata": {},
   "source": [
    "### Steps :\n",
    "#### 1) Data Ingestion\n",
    "#### 2) EDA\n",
    "#### 2.1) The equally distributed the data (for ex : Decile)\n",
    "#### 2.2) Continious Data --> Creating the Linear algorithm between Dependent and Independent variable using decile data\n",
    "#### 2.3) Categorical Data --> Creating the Bar chart between Dependent and Independent variable using decile data\n",
    "#### 2.4) Model training\n",
    "#### 2.5) To normalize the data --> Optimal Bining or Manual bining (Important)\n",
    "#### 2.6) Again Model training based on the p-value and z-score\n",
    "#### 2.7) Output Part --> (Equally distributed,Gini,Entropy)\n",
    "#### 2.7.1) we should see the prediction probability mean and target variable mean should be equally\n",
    "#### 2.7.2) target variable mean should be in descending order- -->  drop the varible if it is negative correlation in model training"
   ]
  },
  {
   "cell_type": "code",
   "execution_count": null,
   "id": "6279780b",
   "metadata": {},
   "outputs": [],
   "source": []
  }
 ],
 "metadata": {
  "kernelspec": {
   "display_name": "Python 3 (ipykernel)",
   "language": "python",
   "name": "python3"
  },
  "language_info": {
   "codemirror_mode": {
    "name": "ipython",
    "version": 3
   },
   "file_extension": ".py",
   "mimetype": "text/x-python",
   "name": "python",
   "nbconvert_exporter": "python",
   "pygments_lexer": "ipython3",
   "version": "3.8.10"
  }
 },
 "nbformat": 4,
 "nbformat_minor": 5
}
