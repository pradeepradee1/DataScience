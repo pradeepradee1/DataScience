{
 "cells": [
  {
   "cell_type": "markdown",
   "metadata": {},
   "source": [
    "# ADFULLER TEST FOR STATIONARITY"
   ]
  },
  {
   "cell_type": "markdown",
   "metadata": {},
   "source": [
    "# Definition of stationarity - constant mean and variance"
   ]
  },
  {
   "cell_type": "code",
   "execution_count": 4,
   "metadata": {},
   "outputs": [],
   "source": [
    "from statsmodels.tsa.stattools import adfuller\n",
    "import pandas as pd"
   ]
  },
  {
   "cell_type": "code",
   "execution_count": 5,
   "metadata": {},
   "outputs": [
    {
     "name": "stdout",
     "output_type": "stream",
     "text": [
      "ADF Statistic: 3.145185689306736\n",
      "p-value: 1.0\n",
      "Critial Values:\n",
      "   1%, -3.465620397124192\n",
      "Critial Values:\n",
      "   5%, -2.8770397560752436\n",
      "Critial Values:\n",
      "   10%, -2.5750324547306476\n"
     ]
    }
   ],
   "source": [
    "# Note :\n",
    "# ADF Test , the nul hypothesis = non-stationary  \n",
    "# if p-value < 5% reject null hypothesis\n",
    "\n",
    "\n",
    "DrugSalesData = pd.read_csv('TimeSeries.csv', parse_dates=['Date'], index_col='Date')\n",
    "adfuller_result = adfuller(DrugSalesData.Value.values, autolag='AIC')\n",
    "\n",
    "print(f'ADF Statistic: {adfuller_result[0]}')\n",
    "\n",
    "print(f'p-value: {adfuller_result[1]}')\n",
    "\n",
    "for key, value in adfuller_result[4].items():\n",
    "    print('Critial Values:')\n",
    "    print(f'   {key}, {value}')"
   ]
  },
  {
   "cell_type": "code",
   "execution_count": 1,
   "metadata": {},
   "outputs": [],
   "source": [
    "# Note :\n",
    "# ADF Test , the nul hypothesis = non-stationary  \n",
    "# if p-value < 5% reject null hypothesis\n",
    "\n"
   ]
  },
  {
   "cell_type": "code",
   "execution_count": 2,
   "metadata": {},
   "outputs": [],
   "source": [
    "# Note : \n",
    "# This is not stationary data"
   ]
  },
  {
   "cell_type": "markdown",
   "metadata": {},
   "source": [
    "# How to make a time series stationary"
   ]
  },
  {
   "cell_type": "code",
   "execution_count": null,
   "metadata": {},
   "outputs": [],
   "source": []
  },
  {
   "cell_type": "code",
   "execution_count": null,
   "metadata": {},
   "outputs": [],
   "source": []
  }
 ],
 "metadata": {
  "kernelspec": {
   "display_name": "Python 3 (ipykernel)",
   "language": "python",
   "name": "python3"
  },
  "language_info": {
   "codemirror_mode": {
    "name": "ipython",
    "version": 3
   },
   "file_extension": ".py",
   "mimetype": "text/x-python",
   "name": "python",
   "nbconvert_exporter": "python",
   "pygments_lexer": "ipython3",
   "version": "3.8.10"
  }
 },
 "nbformat": 4,
 "nbformat_minor": 4
}
