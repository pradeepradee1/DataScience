{
 "cells": [
  {
   "cell_type": "code",
   "execution_count": 1,
   "id": "27b3ac02",
   "metadata": {},
   "outputs": [],
   "source": [
    "from matplotlib import pyplot as plt\n",
    "from sklearn.metrics import confusion_matrix , classification_report\n",
    "import pandas as pd\n",
    "import seaborn as sns"
   ]
  },
  {
   "cell_type": "code",
   "execution_count": 3,
   "id": "2bfe9ffb",
   "metadata": {},
   "outputs": [],
   "source": [
    "Actual =     [1,1,1,1,1,1,1,1,0,0,0,0,0,0,0]\n",
    "Prediction = [1,0,0,0,1,1,1,1,0,0,0,0,0,1,1]"
   ]
  },
  {
   "cell_type": "code",
   "execution_count": 4,
   "id": "369be1bf",
   "metadata": {},
   "outputs": [],
   "source": [
    "TP=5\n",
    "FP=2\n",
    "TN=5\n",
    "FN=3"
   ]
  },
  {
   "cell_type": "code",
   "execution_count": 7,
   "id": "afc2b158",
   "metadata": {},
   "outputs": [
    {
     "data": {
      "text/plain": [
       "array([[5, 3],\n",
       "       [2, 5]])"
      ]
     },
     "execution_count": 7,
     "metadata": {},
     "output_type": "execute_result"
    }
   ],
   "source": [
    "matrix = confusion_matrix(Actual,Prediction, labels=[1,0])\n",
    "matrix"
   ]
  },
  {
   "cell_type": "code",
   "execution_count": 10,
   "id": "097ccd04",
   "metadata": {},
   "outputs": [
    {
     "name": "stdout",
     "output_type": "stream",
     "text": [
      "Outcome values : 5 3 2 5\n"
     ]
    }
   ],
   "source": [
    "TP, FN, FP, TN = confusion_matrix(Actual,Prediction,labels=[1,0]).reshape(-1)\n",
    "print('Outcome values :', TP, FN, FP, TN)"
   ]
  },
  {
   "cell_type": "code",
   "execution_count": null,
   "id": "349e66d6",
   "metadata": {},
   "outputs": [],
   "source": []
  },
  {
   "cell_type": "code",
   "execution_count": null,
   "id": "e41c1e13",
   "metadata": {},
   "outputs": [],
   "source": []
  }
 ],
 "metadata": {
  "kernelspec": {
   "display_name": "Python 3 (ipykernel)",
   "language": "python",
   "name": "python3"
  },
  "language_info": {
   "codemirror_mode": {
    "name": "ipython",
    "version": 3
   },
   "file_extension": ".py",
   "mimetype": "text/x-python",
   "name": "python",
   "nbconvert_exporter": "python",
   "pygments_lexer": "ipython3",
   "version": "3.8.10"
  }
 },
 "nbformat": 4,
 "nbformat_minor": 5
}
