{
 "cells": [
  {
   "cell_type": "markdown",
   "id": "2a020f13",
   "metadata": {},
   "source": [
    "### Floating Average"
   ]
  },
  {
   "cell_type": "code",
   "execution_count": 15,
   "id": "2e2ab3c3",
   "metadata": {},
   "outputs": [
    {
     "name": "stdout",
     "output_type": "stream",
     "text": [
      "Original Data  : [1, 3, 5, 7, 9, 11, 13, 15, 17, 19]\n",
      "Moving Average : [3.0, 5.0, 7.0, 9.0, 11.0, 13.0, 15.0, 17.0]\n"
     ]
    }
   ],
   "source": [
    "import numpy as np\n",
    "\n",
    "# Sample time series data\n",
    "data = [1, 3, 5, 7, 9, 11, 13, 15, 17, 19]\n",
    "\n",
    "def moving_average(data, window_size):\n",
    "    moving_averages = []\n",
    "    for i in range(len(data) - window_size + 1):\n",
    "        window = data[i : i + window_size]\n",
    "        window_average = sum(window) / window_size\n",
    "        moving_averages.append(window_average)\n",
    "    return moving_averages\n",
    "\n",
    "window_size = 3\n",
    "ma = moving_average(data, window_size)\n",
    "print(\"Original Data  :\",data)\n",
    "print(\"Moving Average :\", ma)\n"
   ]
  },
  {
   "cell_type": "markdown",
   "id": "e36e9723",
   "metadata": {},
   "source": [
    "### Cummalative Moving Average"
   ]
  },
  {
   "cell_type": "code",
   "execution_count": 16,
   "id": "3bf9e714",
   "metadata": {},
   "outputs": [
    {
     "name": "stdout",
     "output_type": "stream",
     "text": [
      "Orginal Data        : [1, 3, 5, 7, 9, 11, 13, 15, 17, 19]\n",
      "Cumulative Average- : [1.0, 2.0, 3.0, 4.0, 5.0, 6.0, 7.0, 8.0, 9.0, 10.0]\n"
     ]
    }
   ],
   "source": [
    "import numpy as np\n",
    "\n",
    "# Sample time series data\n",
    "data = [1, 3, 5, 7, 9, 11, 13, 15, 17, 19]\n",
    "\n",
    "def cumulative_average(data):\n",
    "    cumulative_averages = []\n",
    "    cumulative_sum = 0\n",
    "    for i in range(len(data)):\n",
    "        cumulative_sum += data[i]\n",
    "        cumulative_average = cumulative_sum / (i + 1)\n",
    "        cumulative_averages.append(cumulative_average)\n",
    "    return cumulative_averages\n",
    "\n",
    "ca = cumulative_average(data)\n",
    "\n",
    "print(\"Orginal Data        :\", data)\n",
    "\n",
    "print(\"Cumulative Average- :\", ca)\n"
   ]
  },
  {
   "cell_type": "code",
   "execution_count": null,
   "id": "da9c1cd9",
   "metadata": {},
   "outputs": [],
   "source": []
  }
 ],
 "metadata": {
  "kernelspec": {
   "display_name": "Python 3 (ipykernel)",
   "language": "python",
   "name": "python3"
  },
  "language_info": {
   "codemirror_mode": {
    "name": "ipython",
    "version": 3
   },
   "file_extension": ".py",
   "mimetype": "text/x-python",
   "name": "python",
   "nbconvert_exporter": "python",
   "pygments_lexer": "ipython3",
   "version": "3.8.10"
  }
 },
 "nbformat": 4,
 "nbformat_minor": 5
}
