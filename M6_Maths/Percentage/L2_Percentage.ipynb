{
 "cells": [
  {
   "cell_type": "code",
   "execution_count": 16,
   "id": "6e05000c",
   "metadata": {},
   "outputs": [
    {
     "data": {
      "text/html": [
       "<div>\n",
       "<style scoped>\n",
       "    .dataframe tbody tr th:only-of-type {\n",
       "        vertical-align: middle;\n",
       "    }\n",
       "\n",
       "    .dataframe tbody tr th {\n",
       "        vertical-align: top;\n",
       "    }\n",
       "\n",
       "    .dataframe thead th {\n",
       "        text-align: right;\n",
       "    }\n",
       "</style>\n",
       "<table border=\"1\" class=\"dataframe\">\n",
       "  <thead>\n",
       "    <tr style=\"text-align: right;\">\n",
       "      <th></th>\n",
       "      <th>SalOfYear1</th>\n",
       "      <th>SalOfYear2</th>\n",
       "    </tr>\n",
       "  </thead>\n",
       "  <tbody>\n",
       "    <tr>\n",
       "      <th>0</th>\n",
       "      <td>1000</td>\n",
       "      <td>2000</td>\n",
       "    </tr>\n",
       "    <tr>\n",
       "      <th>1</th>\n",
       "      <td>2000</td>\n",
       "      <td>3000</td>\n",
       "    </tr>\n",
       "    <tr>\n",
       "      <th>2</th>\n",
       "      <td>3000</td>\n",
       "      <td>3500</td>\n",
       "    </tr>\n",
       "    <tr>\n",
       "      <th>3</th>\n",
       "      <td>4000</td>\n",
       "      <td>4500</td>\n",
       "    </tr>\n",
       "    <tr>\n",
       "      <th>4</th>\n",
       "      <td>5000</td>\n",
       "      <td>4100</td>\n",
       "    </tr>\n",
       "  </tbody>\n",
       "</table>\n",
       "</div>"
      ],
      "text/plain": [
       "   SalOfYear1  SalOfYear2\n",
       "0        1000        2000\n",
       "1        2000        3000\n",
       "2        3000        3500\n",
       "3        4000        4500\n",
       "4        5000        4100"
      ]
     },
     "execution_count": 16,
     "metadata": {},
     "output_type": "execute_result"
    }
   ],
   "source": [
    "import pandas as pd\n",
    "import numpy as np\n",
    "data={\"SalOfYear1\":[1000,2000,3000,4000,5000],\"SalOfYear2\":[2000,3000,3500,4500,4100]}\n",
    "data=pd.DataFrame(data)\n",
    "data"
   ]
  },
  {
   "cell_type": "markdown",
   "id": "ba1f7028",
   "metadata": {},
   "source": [
    "### How to find the salary hike in percentage ?"
   ]
  },
  {
   "cell_type": "code",
   "execution_count": 19,
   "id": "41dbd1ce",
   "metadata": {},
   "outputs": [
    {
     "data": {
      "text/plain": [
       "0   -100.000000\n",
       "1    -50.000000\n",
       "2    -16.666667\n",
       "3    -12.500000\n",
       "4     18.000000\n",
       "dtype: float64"
      ]
     },
     "execution_count": 19,
     "metadata": {},
     "output_type": "execute_result"
    }
   ],
   "source": [
    "(data[\"SalOfYear1\"]-data[\"SalOfYear2\"])/data[\"SalOfYear1\"]*100"
   ]
  },
  {
   "cell_type": "markdown",
   "id": "27f206f1",
   "metadata": {},
   "source": [
    "### -100 = 100 percetage hike\n",
    "### -50 = 50 percentage hike\n",
    "### -16 = 16 percentage hike\n",
    "### -12 = 12 percentage hike\n",
    "### 18 = 18 downgrader salary"
   ]
  },
  {
   "cell_type": "code",
   "execution_count": null,
   "id": "1a37e78f",
   "metadata": {},
   "outputs": [],
   "source": []
  }
 ],
 "metadata": {
  "kernelspec": {
   "display_name": "Python 3 (ipykernel)",
   "language": "python",
   "name": "python3"
  },
  "language_info": {
   "codemirror_mode": {
    "name": "ipython",
    "version": 3
   },
   "file_extension": ".py",
   "mimetype": "text/x-python",
   "name": "python",
   "nbconvert_exporter": "python",
   "pygments_lexer": "ipython3",
   "version": "3.8.10"
  }
 },
 "nbformat": 4,
 "nbformat_minor": 5
}
