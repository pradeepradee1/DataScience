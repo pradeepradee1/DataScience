{
 "cells": [
  {
   "cell_type": "code",
   "execution_count": 22,
   "id": "6e05000c",
   "metadata": {},
   "outputs": [],
   "source": [
    "import pandas as pd\n",
    "import numpy as np"
   ]
  },
  {
   "cell_type": "markdown",
   "id": "43ba0b90",
   "metadata": {},
   "source": [
    "### 1) What is 40% of 80 ?"
   ]
  },
  {
   "cell_type": "code",
   "execution_count": 23,
   "id": "c9d8cadd",
   "metadata": {},
   "outputs": [
    {
     "name": "stdout",
     "output_type": "stream",
     "text": [
      "32.0\n",
      "The 40% percentage of 80 is 32.0\n"
     ]
    }
   ],
   "source": [
    "percentage=(40/100*80)\n",
    "print(percentage)\n",
    "print(\"The 40% percentage of 80 is {}\".format(40/100*80))"
   ]
  },
  {
   "cell_type": "markdown",
   "id": "1b97d277",
   "metadata": {},
   "source": [
    "### 2) 3 is what % of 60 ?"
   ]
  },
  {
   "cell_type": "code",
   "execution_count": 24,
   "id": "f03e4279",
   "metadata": {},
   "outputs": [
    {
     "name": "stdout",
     "output_type": "stream",
     "text": [
      "5.0\n",
      "The 3 is what percentage of 60 5.0\n"
     ]
    }
   ],
   "source": [
    "percentage=(3/60*100)\n",
    "print(percentage)\n",
    "print(\"The 3 is what percentage of 60 {}\".format(3/60*100))"
   ]
  },
  {
   "cell_type": "code",
   "execution_count": 25,
   "id": "4b54bd1e",
   "metadata": {},
   "outputs": [
    {
     "name": "stdout",
     "output_type": "stream",
     "text": [
      "397\n",
      "13.09823677581864\n"
     ]
    }
   ],
   "source": [
    "#Example\n",
    "#1)52 is what percentage of 397 ?\n",
    "a=[52, 87, 49,74, 28, 59,48]\n",
    "print(sum(a))\n",
    "print(52/sum(a)*100)"
   ]
  },
  {
   "cell_type": "code",
   "execution_count": 26,
   "id": "5ce31989",
   "metadata": {},
   "outputs": [
    {
     "data": {
      "text/html": [
       "<div>\n",
       "<style scoped>\n",
       "    .dataframe tbody tr th:only-of-type {\n",
       "        vertical-align: middle;\n",
       "    }\n",
       "\n",
       "    .dataframe tbody tr th {\n",
       "        vertical-align: top;\n",
       "    }\n",
       "\n",
       "    .dataframe thead th {\n",
       "        text-align: right;\n",
       "    }\n",
       "</style>\n",
       "<table border=\"1\" class=\"dataframe\">\n",
       "  <thead>\n",
       "    <tr style=\"text-align: right;\">\n",
       "      <th></th>\n",
       "      <th>Name</th>\n",
       "      <th>Math_score</th>\n",
       "      <th>percent</th>\n",
       "    </tr>\n",
       "  </thead>\n",
       "  <tbody>\n",
       "    <tr>\n",
       "      <th>0</th>\n",
       "      <td>abc</td>\n",
       "      <td>52</td>\n",
       "      <td>13.098237</td>\n",
       "    </tr>\n",
       "    <tr>\n",
       "      <th>1</th>\n",
       "      <td>bcd</td>\n",
       "      <td>87</td>\n",
       "      <td>21.914358</td>\n",
       "    </tr>\n",
       "    <tr>\n",
       "      <th>2</th>\n",
       "      <td>cde</td>\n",
       "      <td>49</td>\n",
       "      <td>12.342569</td>\n",
       "    </tr>\n",
       "    <tr>\n",
       "      <th>3</th>\n",
       "      <td>def</td>\n",
       "      <td>74</td>\n",
       "      <td>18.639798</td>\n",
       "    </tr>\n",
       "    <tr>\n",
       "      <th>4</th>\n",
       "      <td>efg</td>\n",
       "      <td>28</td>\n",
       "      <td>7.052897</td>\n",
       "    </tr>\n",
       "    <tr>\n",
       "      <th>5</th>\n",
       "      <td>fgh</td>\n",
       "      <td>59</td>\n",
       "      <td>14.861461</td>\n",
       "    </tr>\n",
       "    <tr>\n",
       "      <th>6</th>\n",
       "      <td>ghi</td>\n",
       "      <td>48</td>\n",
       "      <td>12.090680</td>\n",
       "    </tr>\n",
       "  </tbody>\n",
       "</table>\n",
       "</div>"
      ],
      "text/plain": [
       "  Name  Math_score    percent\n",
       "0  abc          52  13.098237\n",
       "1  bcd          87  21.914358\n",
       "2  cde          49  12.342569\n",
       "3  def          74  18.639798\n",
       "4  efg          28   7.052897\n",
       "5  fgh          59  14.861461\n",
       "6  ghi          48  12.090680"
      ]
     },
     "execution_count": 26,
     "metadata": {},
     "output_type": "execute_result"
    }
   ],
   "source": [
    "df1 = {\n",
    "     'Name': ['abc', 'bcd', 'cde','def', 'efg', 'fgh','ghi'],\n",
    "     'Math_score': [52, 87, 49,74, 28, 59,48]}\n",
    "\n",
    "df1 = pd.DataFrame(df1,columns = ['Name','Math_score'])\n",
    "df1['percent'] = (df1['Math_score'] / df1['Math_score'].sum()) * 100\n",
    "df1"
   ]
  }
 ],
 "metadata": {
  "kernelspec": {
   "display_name": "Python 3 (ipykernel)",
   "language": "python",
   "name": "python3"
  },
  "language_info": {
   "codemirror_mode": {
    "name": "ipython",
    "version": 3
   },
   "file_extension": ".py",
   "mimetype": "text/x-python",
   "name": "python",
   "nbconvert_exporter": "python",
   "pygments_lexer": "ipython3",
   "version": "3.8.10"
  }
 },
 "nbformat": 4,
 "nbformat_minor": 5
}
