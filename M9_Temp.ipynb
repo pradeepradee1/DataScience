{
 "cells": [
  {
   "cell_type": "code",
   "execution_count": 1,
   "id": "40d91bfe",
   "metadata": {},
   "outputs": [
    {
     "name": "stdout",
     "output_type": "stream",
     "text": [
      "         Date   Event\n",
      "0   11/8/2011   Music\n",
      "1   11/9/2011  Poetry\n",
      "2  11/10/2011   Music\n",
      "3  11/11/2011  Comedy\n",
      "4  11/12/2011  Poetry\n"
     ]
    }
   ],
   "source": [
    "import pandas as pd\n",
    " \n",
    "# Creating the dataframe\n",
    "df = pd.DataFrame({'Date' : ['11/8/2011', '11/9/2011', '11/10/2011',\n",
    "                                        '11/11/2011', '11/12/2011'],\n",
    "                'Event' : ['Music', 'Poetry', 'Music', 'Comedy', 'Poetry']})\n",
    " \n",
    "# Print the dataframe\n",
    "print(df)"
   ]
  },
  {
   "cell_type": "code",
   "execution_count": 4,
   "id": "857675b1",
   "metadata": {},
   "outputs": [
    {
     "name": "stdout",
     "output_type": "stream",
     "text": [
      "         Date   Event  Price\n",
      "0   11/8/2011   Music      0\n",
      "1   11/9/2011  Poetry      1\n",
      "2  11/10/2011   Music      0\n",
      "3  11/11/2011  Comedy      1\n",
      "4  11/12/2011  Poetry      1\n"
     ]
    }
   ],
   "source": [
    "df['Price'] = [0 if x =='Music' else 1 for x in df['Event']]\n",
    " \n",
    "# Print the DataFrame\n",
    "print(df)"
   ]
  },
  {
   "cell_type": "code",
   "execution_count": 5,
   "id": "86a2a28c",
   "metadata": {},
   "outputs": [
    {
     "name": "stdout",
     "output_type": "stream",
     "text": [
      "         Date   Event  Price\n",
      "0   11/8/2011   Music   1500\n",
      "1   11/9/2011  Poetry    800\n",
      "2  11/10/2011   Music   1500\n",
      "3  11/11/2011  Comedy   1200\n",
      "4  11/12/2011  Poetry    800\n"
     ]
    }
   ],
   "source": [
    "def set_value(row_number, assigned_value):\n",
    "    return assigned_value[row_number]\n",
    " \n",
    "# Create the dictionary\n",
    "event_dictionary ={'Music' : 1500, 'Poetry' : 800, 'Comedy' : 1200}\n",
    " \n",
    "# Add a new column named 'Price'\n",
    "df['Price'] = df['Event'].apply(set_value, args =(event_dictionary, ))\n",
    " \n",
    "# Print the DataFrame\n",
    "print(df)"
   ]
  },
  {
   "cell_type": "code",
   "execution_count": null,
   "id": "d925178e",
   "metadata": {},
   "outputs": [],
   "source": []
  }
 ],
 "metadata": {
  "kernelspec": {
   "display_name": "Python 3 (ipykernel)",
   "language": "python",
   "name": "python3"
  },
  "language_info": {
   "codemirror_mode": {
    "name": "ipython",
    "version": 3
   },
   "file_extension": ".py",
   "mimetype": "text/x-python",
   "name": "python",
   "nbconvert_exporter": "python",
   "pygments_lexer": "ipython3",
   "version": "3.8.10"
  }
 },
 "nbformat": 4,
 "nbformat_minor": 5
}
